{
 "cells": [
  {
   "cell_type": "code",
   "execution_count": 9,
   "metadata": {},
   "outputs": [],
   "source": [
    "# Imports\n",
    "import os\n",
    "\n",
    "from dotenv import load_dotenv\n",
    "\n",
    "## LLMSherpa\n",
    "from llmsherpa.readers import LayoutPDFReader\n",
    "\n",
    "## LlamaIndex\n",
    "from llama_index.core import VectorStoreIndex, Document, StorageContext\n",
    "from llama_index.vector_stores.duckdb import DuckDBVectorStore\n",
    "from llama_index.llms.openai import OpenAI\n",
    "from llama_index.embeddings.openai import OpenAIEmbedding, OpenAIEmbeddingMode, OpenAIEmbeddingModelType\n",
    "from llama_index.llms.anthropic import Anthropic\n",
    "from llama_index.llms.gemini import Gemini\n",
    "from llama_index.embeddings.gemini import GeminiEmbedding\n",
    "\n",
    "## Traceloop\n",
    "from traceloop.sdk import Traceloop\n",
    "\n",
    "## LangChain\n",
    "from langchain_community.document_loaders import UnstructuredPDFLoader"
   ]
  },
  {
   "cell_type": "code",
   "execution_count": 6,
   "metadata": {},
   "outputs": [
    {
     "data": {
      "text/plain": [
       "True"
      ]
     },
     "execution_count": 6,
     "metadata": {},
     "output_type": "execute_result"
    }
   ],
   "source": [
    "# os.environ[\"TRACELOOP_API_KEY\"] = \"your_traceloop_api_key\"\n",
    "# os.environ[\"GOOGLE_API_KEY\"] = \"your_google_api_key\"\n",
    "# os.environ[\"OPENAI_API_KEY\"] = \"your_openai_api_key\"\n",
    "# os.environ[\"ANTHROPIC_API_KEY\"] = \"your_anthropic_api_key\"\n",
    "\n",
    "# Loads .env file with the above API keys\n",
    "load_dotenv(override=True)"
   ]
  },
  {
   "cell_type": "code",
   "execution_count": 7,
   "metadata": {},
   "outputs": [
    {
     "name": "stdout",
     "output_type": "stream",
     "text": [
      "\u001b[32mTraceloop syncing configuration and prompts\u001b[39m\n",
      "\u001b[32mTraceloop exporting traces to https://api.traceloop.com authenticating with bearer token\n",
      "\u001b[39m\n"
     ]
    }
   ],
   "source": [
    "# Enable OpenTelemetry auto-instrumentation using Traceloop's OpenLLMetry\n",
    "Traceloop.init(disable_batch=True, api_key=os.environ[\"TRACELOOP_API_KEY\"])"
   ]
  },
  {
   "cell_type": "code",
   "execution_count": 8,
   "metadata": {},
   "outputs": [
    {
     "name": "stdout",
     "output_type": "stream",
     "text": [
      "Error reading PDF directly, retrying using UnstructuredPDFLoader: [pdf_path=./data/NRMA.pdf] [error='return_dict']\n",
      "\n",
      " 0\n",
      "NRMA > Product Disclosure Statement And Policy Booklet (PDS)\n",
      "NSW, ACT, TAS and QLD This Product Disclosure Statement and Policy Booklet (PDS) was prepared on 2 August 2022.\n",
      "The information in this PDS is current at that date.\n",
      "From time to time, we may include more up-to-date information in the PDS that is not materially adverse without notifying you.\n",
      "You can get more up-to-date information by calling 132 132 or visiting nrma.com.au.\n",
      "If you ask us for any updates, we will give you a free copy.\n",
      "If we need to, we will issue a supplementary or replacement PDS.\n",
      "©2022.\n",
      "\n",
      " 1\n",
      "NRMA > Supplementary Product Disclosure Statement\n",
      "This Supplementary Product Disclosure Statement (SPDS) is dated 10 October 2023 and will apply to all policies under the NRMA Insurance Motor NSW, ACT, TAS and QLD Insurance Product Disclosure Statement and Policy Booklet (PDS), (Prepared on 02/08/2022) version G018066 08/22; taken out with a new business effective date on or after 11 October 2023, or with a renewal effective date on or after 13 November 2023.\n",
      "\n",
      " 2\n",
      "NRMA > Supplementary Product Disclosure Statement\n",
      "The information in this SPDS updates the terms contained in the PDS and should be read together with the PDS and any other applicable SPDS.\n",
      "\n",
      " 3\n",
      "NRMA > Supplementary Product Disclosure Statement\n",
      "If you would like another copy of your PDS, please go to nrma.com.au.\n",
      "\n",
      " 4\n",
      "NRMA > Supplementary Product Disclosure Statement\n",
      "Page 1 of 4\n",
      "\n",
      " 5\n",
      "NRMA > Supplementary Product Disclosure Statement\n",
      "Changes to your PDS Your PDS is amended by the following: Change 1 – Amendment to ‘Your responsibilities’ Your PDS is amended by removing the ‘Authorising repairs to your vehicle’ section on page 61 and replacing it with the following: You must not start, approve or authorise any repairs to your vehicle under any circumstances, unless: we allow it under ‘Emergency repairs’ – see pages 17, 29 and 44, or you obtain our prior written consent by contacting us on 131 123.\n",
      "\n",
      " 6\n",
      "NRMA > Supplementary Product Disclosure Statement\n",
      "You should seek our agreement before incurring any out-of-pocket expenses to ensure you will be able to claim those costs back on your policy.\n",
      "If you do not obtain our agreement first, we will only pay reasonable costs up to the amount we would have agreed to pay had you obtained our prior agreement.\n",
      "Refer to the ‘How we settle your claim’ section of the policy for information in relation to what are reasonable costs.\n",
      "\n",
      " 7\n",
      "NRMA > Supplementary Product Disclosure Statement\n",
      "If we have cash settled your claim instead of authorising repairs and then you arrange or authorise repairs, we are not responsible for any costs associated with those repairs.\n",
      "\n",
      " 8\n",
      "NRMA > Change 2 – Amendment to ‘Emergency transport and accommodation’\n",
      "1. Your PDS is amended by replacing the dot point on page 18: we must agree to the costs before they are incurred.\n",
      "with the following: you should seek our agreement before incurring any out-of-pocket expenses to ensure you will be able to claim those costs back on your policy.\n",
      "If you do not obtain our agreement first, we will only pay reasonable costs.\n",
      "you should seek our agreement before incurring any out-of-pocket expenses to ensure you will be able to claim those costs back on your policy.\n",
      "If you do not obtain our agreement first, we will only pay the reasonable costs.\n",
      "\n",
      " 9\n",
      "NRMA > Change 2 – Amendment to ‘Emergency transport and accommodation’\n",
      "Change 3 – Amendment to Recovery actions Your PDS is amended by deleting the last two paragraphs in the subsection ‘Recovery action by us’ on page 71, and replacing it with the following updated wording: You must give us all the information and co-operation that we reasonably require to take the recovery action.\n",
      "We will only request information or co-operation which is relevant to pursue the recovery action and will provide an explanation as to why it is needed.\n",
      "We will act reasonably in exercising our discretion in the conduct of any legal proceedings and in the settlement of any claim while we conduct any recovery action.\n",
      "We will keep you reasonably informed and updated with the progress of proceedings.\n",
      "\n",
      " 10\n",
      "NRMA > Change 2 – Amendment to ‘Emergency transport and accommodation’\n",
      "You must not do anything unreasonable which prejudices us in taking any recovery action without our written consent.\n",
      "For example, you must not: assign your rights to anyone else; - for example, a tow truck driver or a smash repairer; or opt-out of any representative or group proceedings taken by us.\n",
      "\n",
      " 11\n",
      "NRMA > Change 2 – Amendment to ‘Emergency transport and accommodation’\n",
      "This SPDS is issued by Insurance Australia Limited ABN 11 000 016 722 AFS Licence No. 227681 trading as NRMA Insurance\n",
      "\n",
      " 12\n",
      "NRMA > SPDS007 10/23\n",
      "Thank you for choosing NRMA Insurance.\n",
      "\n",
      " 13\n",
      "NRMA > SPDS007 10/23\n",
      "At NRMA Insurance, we have been protecting Australians and the things they value for over 90 years.\n",
      "Over that time, we’ve built a wealth of invaluable knowledge and experience.\n",
      "This helps us provide you with great customer service and quality cover, to better protect the things you value.\n",
      "\n",
      " 14\n",
      "NRMA > SPDS007 10/23\n",
      "We’re always there when you need us.\n",
      "Our 24 hour Claims line offers a simpler way to make a claim, so that you’re back on your feet as quickly as possible.\n",
      "\n",
      " 15\n",
      "NRMA > SPDS007 10/23\n",
      "This booklet contains information you need to know about your insurance policy.\n",
      "If you have any questions, or if there’s anything we can help with, get in touch today.\n",
      "\n",
      " 16\n",
      "NRMA > Visit nrma.com.au\n",
      "Call 132 132\n",
      "\n",
      " 17\n",
      "NRMA > Visit nrma.com.au\n",
      "Visit a local branch Motor Insurance at a glance – quick summary Here’s a summary of the key details about Motor Insurance.\n",
      "In this Product Disclosure Statement and Policy Booklet (PDS), we set out the full details about your cover and any limits, exclusions and conditions that apply.\n",
      "\n",
      " 18\n",
      "NRMA > Visit nrma.com.au\n",
      "Under your policy, we cover: Who we cover you • anyone who has your permission to drive your vehicle You can choose from these 4 types of insurance Type of insurance Comprehensive Plus Insurance – our top cover • Comprehensive Insurance – our standard cover • Third Party Fire & Theft Insurance – our basic cover with some extras • Third Party Property Damage Insurance – our basic cover Your vehicle and you What we insure we insure your vehicle for an agreed value or market value as shown on your current Certificate of Insurance and including:\n",
      "– any standard equipment that comes with it, plus – any modifications, options or accessories that are attached to it we insure you for claims that are made against you where the use of your vehicle causes loss or damage to someone else’s property The types of vehicles we insure include: cars • utes • motorcycles – which include scooters (you can only insure motorcycles under Comprehensive Insurance or Third Party Property Damage Insurance) page 54 What we pay Your insurance cover Also available for motorcycles When a person we cover makes a claim and is entitled to liability cover, then we will: act for them or arrange for a lawyer to represent them • attempt to resolve the claim • defend the claim in a court or tribunal We will decide whether to defend or resolve a claim and how much to pay to resolve a claim.\n",
      "\n",
      " 19\n",
      "NRMA > Visit nrma.com.au\n",
      "If we agree to cover your claim, then we will: decide whether to repair your vehicle or pay you the reasonable cost of repairs as determined by us or pay you the agreed value or market value that applies under your policy pay for any other benefits that apply to your policy • pay for any options you have added to your policy • deduct any amounts that apply (for example, excess, unpaid premium or any unused registration and CTP insurance premium) Comprehensive Plus Insurance – our top cover ✔ Loss or damage to your vehicle ✔ Other benefits – up to 15 benefits (we cover you for extra things like a hire car and a taxi home after an incident we cover) ✔ Options you can add – you pay extra for this ✔ Liability cover Comprehensive Insurance – our standard cover ✔ Other benefits – up to 14 benefits ✔ Options you can add – you pay extra for this Third Party Fire & Theft Insurance – our basic cover with some extras ✔ Loss or damage to your vehicle (fire, theft or attempted theft only) ✔ Other benefits – up to 7 benefits ✔ Liability cover Third Party Property Damage Insurance – our basic cover To compare these 4 types of insurance, see the next page Key benefits and features of Motor Insurance This table compares the cover we provide under the 4 types of insurance we offer.\n",
      "In this PDS, we set out the full details about your cover and any limits, exclusions and conditions that apply.\n",
      "\n",
      " 0\n",
      "Allianz > PRODUCT DISCLOSURE STATEMENT\n",
      "Preparation date: 27/01/2022.\n",
      "\n",
      " 1\n",
      "Allianz > Motor Insurance\n",
      "This Product Disclosure Statement (PDS) is an important document that contains information designed to help you make an informed decision about whether to purchase this insurance.\n",
      "\n",
      " 2\n",
      "Allianz > Motor Insurance\n",
      "You need to ensure you have all the protection you need, so please read through this PDS carefully, and store in a safe place for easy reference.\n",
      "\n",
      " 3\n",
      "Allianz > Motor Insurance > About Allianz\n",
      "As a member of the worldwide Allianz Group, we use our years of local expertise, combined with global experience, to offer a wide range of products and services to our customers.\n",
      "\n",
      " 4\n",
      "Allianz > Motor Insurance > About Allianz\n",
      "We are committed to continuous improvement of our products and services and strive to achieve this through the use of dedicated technical research units and the sharing of new product developments globally.\n",
      "\n",
      " 5\n",
      "Allianz > Motor Insurance > About Allianz\n",
      "When you need to make a claim we are there for you via our 24 hour claims line so you can get back on the road again as quickly as possible.\n",
      "\n",
      " 6\n",
      "Allianz > Motor Insurance > Motor Insurance – a snapshot\n",
      "This is a high level snapshot only.\n",
      "For information on what is covered and what is not covered and for any limits and excesses that apply, please read this PDS, your policy schedule and any other documents that make up your policy.\n",
      "\n",
      " 7\n",
      "Allianz > Motor Insurance > Motor Insurance – a snapshot > Who we\n",
      " | cover | • • | You; and any licensed driver you give permission to drive the vehicle except someone noted as a declined driver on the policy.\n",
      " | --- | --- | ---\n",
      " | Types of | • | Comprehensive insurance\n",
      "\n",
      "\n",
      " 8\n",
      "Allianz > Motor Insurance > Motor Insurance – a snapshot > cover we can offer\n",
      "– Accidental loss of (including theft) or accidental damage to your vehicle as listed under the Comprehensive insurance section including Other benefits and Optional benefits (where applicable).\n",
      "See page 18.\n",
      "\n",
      " 9\n",
      "Allianz > Motor Insurance > Motor Insurance – a snapshot > cover we can offer\n",
      "– Liability cover as specified in the legal liability section.\n",
      "See page 26.\n",
      "• Third Party Property Damage insurance\n",
      "– Liability cover as specified in the legal liability section.\n",
      "See page 26.\n",
      "• Third Party Fire and Theft insurance\n",
      "\n",
      " 10\n",
      "Allianz > Motor Insurance > Motor Insurance – a snapshot > cover we can offer\n",
      "Please note that Third Party Fire and Theft cover is no longer available for new policies.\n",
      "It is only available to existing customers with Third Party Fire and Theft cover who are renewing their policy.\n",
      "– Accidental loss of or accidental damage to your vehicle caused by fire, explosion, lightning, or theft as listed under the Third Party Fire and Theft insurance section including Other benefits.\n",
      "See page 29.\n",
      "Liability cover as specified in the legal liability section.\n",
      "See page 26.\n",
      "\n",
      " 11\n",
      "Allianz > Motor Insurance > Motor Insurance – a snapshot > cover we can offer\n",
      "1Text 086 1221_D1.indd\n",
      "\n",
      " 12\n",
      "Allianz > Motor Insurance > Motor Insurance – a snapshot > What cover\n",
      "you get for your vehicle (Not applicable if you have Third Party Property Damage cover)\n",
      "\n",
      " 13\n",
      "Allianz > Motor Insurance > Motor Insurance – a snapshot > What cover\n",
      "• Your vehicle (including its standard tools, modiﬁcations and accessories as supplied by the manufacturer and fitted or non-standard extras, modifications and accessories which are included on your policy schedule) is covered for its agreed or market value whichever is shown on your policy schedule.\n",
      "\n",
      " 14\n",
      "Allianz > Motor Insurance > Motor Insurance – a snapshot > What cover\n",
      "If we agree to pay a claim for covered loss of or damage to your vehicle we will:\n",
      "• at our option (acting reasonably), repair or pay you the reasonable cost of repairs or the agreed value or market value that applies on the policy; and\n",
      "• pay for other covered benefits that apply, subject to the relevant limits.\n",
      "\n",
      " 15\n",
      "Allianz > Motor Insurance > Motor Insurance – a snapshot > What cover\n",
      "What we pay for (where applicable)\n",
      "\n",
      " 16\n",
      "Allianz > Motor Insurance > Motor Insurance – a snapshot > What cover\n",
      "What you pay for If you make a claim and are responsible or at fault for the accident, you will be required to pay:\n",
      "\n",
      " 17\n",
      "Allianz > Motor Insurance > Summary of policy features, beneﬁts and exclusions\n",
      "Our motor insurance policy has been designed to provide you with different types of cover to choose from.\n",
      "You need to decide if this insurance is right for you and you should read this PDS and all of the documents that make up the policy to ensure you have the cover you need.\n",
      "The cover you choose will be shown on your policy schedule.\n",
      "\n",
      " 18\n",
      "Allianz > Motor Insurance > Summary of policy features, beneﬁts and exclusions\n",
      "• any amounts that might apply such as an excess.\n",
      "\n",
      " 19\n",
      "Allianz > Motor Insurance > Summary of policy features, beneﬁts and exclusions > Comprehensive Third Party Property > Damage\n",
      "2Text 086 1221_D1.indd Below we have included a summary of the policy features, options that are available under each type of cover that you can choose to apply for, and exclusions that may apply. The table is a guide only. Each cover noted is subject to terms, conditions, exclusions and limitations that are not listed in the summary. You are not automatically insured under each section. For information on what is covered and what is not covered, and any limits and excesses that apply, please read your policy schedule and this PDS carefully including the “When we will not pay your claim” section. Summary of features, options and exclusions Third Party Fire & Theft Only available to existing customers with Third Party Fire and Theft cover who are renewing their policy Features, benefits and exclusions Accidental loss of or damage to your vehicle ✔ ✘ ✔\n"
     ]
    }
   ],
   "source": [
    "# Split PDF into \"context-aware\" chunks, using LayoutPDFReader from llmsherpa API running locally.\n",
    "\n",
    "llmsherpa_api_url = \"http://localhost:5010/api/parseDocument?renderFormat=all&applyOcr=yes&useNewIndentParser=yes\"\n",
    "companies = [\"NRMA\", \"Allianz\"]\n",
    "docs = []\n",
    "\n",
    "for company in companies:\n",
    "    # Load PDS file for company\n",
    "    pdf_path = f\"./data/{company}.pdf\"\n",
    "\n",
    "    try:\n",
    "        pdf_reader = LayoutPDFReader(llmsherpa_api_url)\n",
    "        llmsherpa_pdf_doc = pdf_reader.read_pdf(pdf_path)\n",
    "    except Exception as e:\n",
    "        print(f\"Error reading PDF directly, retrying using UnstructuredPDFLoader: [pdf_path={pdf_path}] [error={e}]\")\n",
    "        loader = UnstructuredPDFLoader(pdf_path)\n",
    "        raw_pdf = loader.load()[0].page_content\n",
    "        llmsherpa_pdf_doc = pdf_reader.read_pdf(\"\", contents=raw_pdf)\n",
    "\n",
    "    llamaindex_docs = [\n",
    "        Document(text=company + \" > \" + chunk.to_context_text(), extra_info={}) for chunk in llmsherpa_pdf_doc.chunks()\n",
    "    ]\n",
    "\n",
    "    # Check the chunks\n",
    "    for i in range(20):\n",
    "        print(\"\\n\", i)\n",
    "        print(llamaindex_docs[i].text)\n",
    "\n",
    "    docs.extend(llamaindex_docs)\n"
   ]
  },
  {
   "cell_type": "code",
   "execution_count": null,
   "metadata": {},
   "outputs": [],
   "source": [
    "# Try local Mistral via Ollama (very slow)\n",
    "\n",
    "# from llama_index.embeddings.ollama import OllamaEmbedding\n",
    "# from llama_index.llms.ollama import Ollama\n",
    "\n",
    "# mistral_ollama_embedding = OllamaEmbedding(\n",
    "#     model_name=\"mistral\",\n",
    "#     base_url=\"http://localhost:11434\",\n",
    "#     ollama_additional_kwargs={\"mirostat\": 0},\n",
    "# )\n",
    "# mistral_ollama_llm = Ollama(model=\"mistral\", request_timeout=30.0)"
   ]
  },
  {
   "cell_type": "markdown",
   "metadata": {},
   "source": [
    "## Use Gemini Pro"
   ]
  },
  {
   "cell_type": "code",
   "execution_count": 34,
   "metadata": {},
   "outputs": [],
   "source": [
    "GOOGLE_API_KEY = os.environ[\"GOOGLE_API_KEY\"]\n",
    "\n",
    "gemini_llm = Gemini(model_name=\"models/gemini-pro\", api_key=GOOGLE_API_KEY)\n",
    "gemini_embedding = GeminiEmbedding(\n",
    "    model_name=\"models/embedding-001\", api_key=GOOGLE_API_KEY\n",
    ")"
   ]
  },
  {
   "cell_type": "code",
   "execution_count": 47,
   "metadata": {},
   "outputs": [],
   "source": [
    "# Create VectorStore using DuckDB with disk persistence (takes time...)\n",
    "gemini_index_vector_store = DuckDBVectorStore(embed_dim=1536, database_name=\"gemini_index_pg.duckdb\", persist_dir=\"./persist/\")\n",
    "gemini_index_storage_context = StorageContext.from_defaults(vector_store=gemini_index_vector_store)"
   ]
  },
  {
   "cell_type": "code",
   "execution_count": 35,
   "metadata": {},
   "outputs": [],
   "source": [
    "# Create VectorStoreIndex using Gemini Pro\n",
    "gemini_index = VectorStoreIndex.from_documents(\n",
    "    documents=docs,\n",
    "    embed_model=gemini_embedding,\n",
    "    # storage_context=gemini_index_storage_context\n",
    ")"
   ]
  },
  {
   "cell_type": "code",
   "execution_count": 36,
   "metadata": {},
   "outputs": [],
   "source": [
    "# Create query engine based on the above Gemini Pro VectorStoreIndex\n",
    "gemini_query_engine = gemini_index.as_query_engine(llm=gemini_llm)"
   ]
  },
  {
   "cell_type": "code",
   "execution_count": 37,
   "metadata": {},
   "outputs": [
    {
     "name": "stdout",
     "output_type": "stream",
     "text": [
      "Allianz is a member of the worldwide Allianz Group that offers a wide range of products and services to its customers.\n",
      "['Motor Insurance > About Allianz\\nAs a member of the worldwide Allianz Group, we use our years of local expertise, combined with global experience, to offer a wide range of products and services to our customers.', 'Motor Insurance > About Allianz\\nWe are committed to continuous improvement of our products and services and strive to achieve this through the use of dedicated technical research units and the sharing of new product developments globally.']\n"
     ]
    }
   ],
   "source": [
    "# Run query & print response\n",
    "\n",
    "response = gemini_query_engine.query(\"What is Allianz?\")\n",
    "print(response)\n",
    "print([node.text for node in response.source_nodes])"
   ]
  },
  {
   "cell_type": "code",
   "execution_count": 38,
   "metadata": {},
   "outputs": [
    {
     "name": "stdout",
     "output_type": "stream",
     "text": [
      "The provided context does not specify the product.\n",
      "['PRODUCT DISCLOSURE STATEMENT\\nPreparation date: 27/01/2022.', 'Definitions\\nText 086 12.21']\n"
     ]
    }
   ],
   "source": [
    "response = gemini_query_engine.query(\"What's the product?\")\n",
    "print(response)\n",
    "print([node.text for node in response.source_nodes])"
   ]
  },
  {
   "cell_type": "code",
   "execution_count": 39,
   "metadata": {},
   "outputs": [
    {
     "name": "stdout",
     "output_type": "stream",
     "text": [
      "The provided context does not contain the answer to this question.\n",
      "['Motor Insurance > Damage\\nEmergency accommodation and travelling expenses $1,500 any one incident ✔ ✘ ✘', 'Motor Insurance > Motor Insurance – a snapshot > What cover\\nWhat we pay for (where applicable)']\n"
     ]
    }
   ],
   "source": [
    "response = gemini_query_engine.query(\"What's motor insurance?\")\n",
    "print(response)\n",
    "print([node.text for node in response.source_nodes])"
   ]
  },
  {
   "cell_type": "code",
   "execution_count": 40,
   "metadata": {},
   "outputs": [
    {
     "name": "stdout",
     "output_type": "stream",
     "text": [
      "Accidental loss of or damage to your vehicle\n",
      "Temporary cover on replacement vehicle\n",
      "['Motor Insurance > Motor Insurance – a snapshot > What cover\\nWhat we pay for (where applicable)', 'Comprehensive insurance > Accidental loss of or damage to your vehicle\\nTemporary cover on replacement vehicle']\n"
     ]
    }
   ],
   "source": [
    "response = gemini_query_engine.query(\"What is covered?\")\n",
    "print(response)\n",
    "print([node.text for node in response.source_nodes])"
   ]
  },
  {
   "cell_type": "code",
   "execution_count": 41,
   "metadata": {},
   "outputs": [
    {
     "name": "stdout",
     "output_type": "stream",
     "text": [
      "The provided context does not mention who is covered, so I cannot answer this question from the provided context.\n",
      "['Motor Insurance > Motor Insurance – a snapshot > What cover\\nWhat we pay for (where applicable)', 'Our excesses > Basic excess\\n• Voluntary excess']\n"
     ]
    }
   ],
   "source": [
    "response = gemini_query_engine.query(\"Who is covered?\")\n",
    "print(response)\n",
    "print([node.text for node in response.source_nodes])"
   ]
  },
  {
   "cell_type": "markdown",
   "metadata": {},
   "source": [
    "## Use OpenAI's GPT"
   ]
  },
  {
   "cell_type": "markdown",
   "metadata": {},
   "source": [
    "### OpenAI LLM on OpenAI embedding (best quality + cheaper than Claude)"
   ]
  },
  {
   "cell_type": "code",
   "execution_count": 10,
   "metadata": {},
   "outputs": [],
   "source": [
    "OPENAI_API_KEY = os.environ[\"OPENAI_API_KEY\"]\n",
    "\n",
    "openai_embedding = OpenAIEmbedding(mode=OpenAIEmbeddingMode.TEXT_SEARCH_MODE, model = OpenAIEmbeddingModelType.TEXT_EMBED_ADA_002, api_key=OPENAI_API_KEY)\n",
    "openai_llm = OpenAI(model=\"gpt-3.5-turbo\", api_key=OPENAI_API_KEY)"
   ]
  },
  {
   "cell_type": "code",
   "execution_count": 12,
   "metadata": {},
   "outputs": [],
   "source": [
    "# # Create VectorStore using DuckDB with disk persistence, and\n",
    "# # VectorStoreIndex using text-embedding-ada-002 embedding from OpenAI (same as LLamaIndex's default)\n",
    "# openai_index_vector_store = DuckDBVectorStore(database_name=\"openai_index_pg.duckdb\", persist_dir=\"./persist/\")\n",
    "# openai_index_storage_context = StorageContext.from_defaults(vector_store=openai_index_vector_store)\n",
    "# openai_index = VectorStoreIndex.from_documents(\n",
    "#     documents=docs,\n",
    "#     embed_model=openai_embedding,\n",
    "#     storage_context=openai_index_storage_context)\n",
    "\n",
    "# Load existing index from DuckDB on disk\n",
    "openai_index_vector_store = DuckDBVectorStore.from_local(\"./persist/openai_index_pg.duckdb\")\n",
    "openai_index = VectorStoreIndex.from_vector_store(openai_index_vector_store)"
   ]
  },
  {
   "cell_type": "code",
   "execution_count": 24,
   "metadata": {},
   "outputs": [],
   "source": [
    "# Create query engine based on the above OpenAI VectorStoreIndex, using gpt-3.5-turbo model from OpenAI (same as LLamaIndex's default)\n",
    "openai_query_engine = openai_index.as_query_engine(llm=openai_llm, similarity_top_k=4)"
   ]
  },
  {
   "cell_type": "code",
   "execution_count": 19,
   "metadata": {},
   "outputs": [
    {
     "name": "stdout",
     "output_type": "stream",
     "text": [
      "Allianz is a company that is a member of the worldwide Allianz Group, utilizing local expertise along with global experience to provide a diverse range of products and services to customers.\n",
      "['Allianz > Motor Insurance > About Allianz\\nAs a member of the worldwide Allianz Group, we use our years of local expertise, combined with global experience, to offer a wide range of products and services to our customers.', 'Allianz > Motor Insurance > About Allianz\\nWe are committed to continuous improvement of our products and services and strive to achieve this through the use of dedicated technical research units and the sharing of new product developments globally.', 'Allianz > Damage\\npage']\n"
     ]
    }
   ],
   "source": [
    "# Run query & print response\n",
    "\n",
    "response = openai_query_engine.query(\"What is Allianz?\")\n",
    "print(response)\n",
    "print([node.text for node in response.source_nodes])"
   ]
  },
  {
   "cell_type": "code",
   "execution_count": 18,
   "metadata": {},
   "outputs": [
    {
     "name": "stdout",
     "output_type": "stream",
     "text": [
      "NRMA is a trading name used by Insurance Australia Limited, which is the product issuer with the Australian Financial Services Licence No. 227681.\n",
      "['NRMA > Excess\\nThe product issuer, Insurance Australia Limited ABN 11 000 016 722 AFS Licence No. 227681 trading as NRMA Insurance.', 'NRMA > Visit nrma.com.au\\nCall 132 132', 'NRMA > Comprehensive\\nFor more details about how we settle your claim, see Section 8.\\nYour policy automatically includes access to our extensive partner repairer network.\\nWe have partnered with trusted businesses to deliver quality, safe repairs and have you back on the road as soon as possible.']\n"
     ]
    }
   ],
   "source": [
    "response = openai_query_engine.query(\"What is NRMA?\")\n",
    "print(response)\n",
    "print([node.text for node in response.source_nodes])"
   ]
  },
  {
   "cell_type": "code",
   "execution_count": 20,
   "metadata": {},
   "outputs": [
    {
     "name": "stdout",
     "output_type": "stream",
     "text": [
      "Motor Insurance\n",
      "['Allianz > Motor Insurance\\nThis Product Disclosure Statement (PDS) is an important document that contains information designed to help you make an informed decision about whether to purchase this insurance.', 'Allianz > Our agreement with you > Your insurance contract\\nWhen you buy the type of motor insurance cover you need, we enter into a contract with you which is called the policy and is made up of:\\n• your policy schedule;\\n• this Product Disclosure Statement (PDS),\\n• any applicable Supplementary PDS (SPDS); and\\n• any other document we tell you forms part of the policy at or prior to the commencement of the policy or when required or permitted by law, which may vary or modify the above documents.', 'Allianz > Our agreement with you > Your insurance contract\\nIf you require further information about this product, please contact your appointed Insurance Broker.']\n"
     ]
    }
   ],
   "source": [
    "response = openai_query_engine.query(\"What's the product?\")\n",
    "print(response)\n",
    "print([node.text for node in response.source_nodes])"
   ]
  },
  {
   "cell_type": "code",
   "execution_count": 21,
   "metadata": {},
   "outputs": [
    {
     "name": "stdout",
     "output_type": "stream",
     "text": [
      "Motor insurance typically provides coverage for vehicles against financial losses resulting from accidents, theft, or other damages. It can include protection for the vehicle itself as well as liability coverage for injuries or damages caused to others.\n",
      "['Allianz > Motor Insurance > Motor Insurance – a snapshot > What cover\\nyou get for your vehicle (Not applicable if you have Third Party Property Damage cover)', 'Allianz > Motor Insurance > Motor Insurance – a snapshot\\nThis is a high level snapshot only.\\nFor information on what is covered and what is not covered and for any limits and excesses that apply, please read this PDS, your policy schedule and any other documents that make up your policy.', 'Allianz > Motor Insurance > Motor Insurance – a snapshot > What cover\\n• Your vehicle (including its standard tools, modiﬁcations and accessories as supplied by the manufacturer and fitted or non-standard extras, modifications and accessories which are included on your policy schedule) is covered for its agreed or market value whichever is shown on your policy schedule.']\n"
     ]
    }
   ],
   "source": [
    "response = openai_query_engine.query(\"What's motor insurance?\")\n",
    "print(response)\n",
    "print([node.text for node in response.source_nodes])"
   ]
  },
  {
   "cell_type": "code",
   "execution_count": 22,
   "metadata": {},
   "outputs": [
    {
     "name": "stdout",
     "output_type": "stream",
     "text": [
      "Your vehicle, including its standard tools, modifications, and accessories as supplied by the manufacturer, as well as any non-standard extras, modifications, and accessories included on your policy schedule, are covered for their agreed or market value as shown on your policy schedule.\n",
      "['Allianz > Motor Insurance > Motor Insurance – a snapshot > What cover\\n• Your vehicle (including its standard tools, modiﬁcations and accessories as supplied by the manufacturer and fitted or non-standard extras, modifications and accessories which are included on your policy schedule) is covered for its agreed or market value whichever is shown on your policy schedule.', 'Allianz > Motor Insurance > Motor Insurance – a snapshot > What cover\\nWhat we pay for (where applicable)', 'Allianz > Making a claim > The most we will pay\\nand any other amounts that may be payable under any additional or optional benefits that apply to your cover.']\n"
     ]
    }
   ],
   "source": [
    "response = openai_query_engine.query(\"What is covered?\")\n",
    "print(response)\n",
    "print([node.text for node in response.source_nodes])"
   ]
  },
  {
   "cell_type": "code",
   "execution_count": 25,
   "metadata": {},
   "outputs": [
    {
     "name": "stdout",
     "output_type": "stream",
     "text": [
      "What is covered by Allianz that is not covered by NRMA is \"Motor Insurance – a snapshot > What cover you get for your vehicle (Not applicable if you have Third Party Property Damage cover)\".\n",
      "['NRMA > Comprehensive\\nNot covered • non-emergency repairs.', 'Allianz > Motor Insurance > Motor Insurance – a snapshot > What cover\\nyou get for your vehicle (Not applicable if you have Third Party Property Damage cover)', 'NRMA > Comprehensive\\nNot covered • any items that are in your trailer or caravan.', 'NRMA > Third Party Property Damage\\nThis section outlines the general exclusions that apply to all covers and benefits we provide under your policy.']\n"
     ]
    }
   ],
   "source": [
    "response = openai_query_engine.query(\"What is covered by Allianz that is not covered by NRMA?\")\n",
    "print(response)\n",
    "print([node.text for node in response.source_nodes])"
   ]
  },
  {
   "cell_type": "code",
   "execution_count": 26,
   "metadata": {},
   "outputs": [
    {
     "name": "stdout",
     "output_type": "stream",
     "text": [
      "Mobile phones, cash, standard equipment, modifications, options, or accessories that are attached to the vehicle are covered by NRMA but not covered by Allianz.\n",
      "['NRMA > Comprehensive\\nNot covered • non-emergency repairs.', 'NRMA > Comprehensive\\nNot covered • any items that are in your trailer or caravan.', 'NRMA > Third Party Property Damage\\nThis section outlines the general exclusions that apply to all covers and benefits we provide under your policy.', 'NRMA > Comprehensive\\nNot covered • mobile phones • cash • standard equipment, modifications, options or accessories that are attached to your vehicle.']\n"
     ]
    }
   ],
   "source": [
    "response = openai_query_engine.query(\"What is covered by NRMA that is not covered by Allianz?\")\n",
    "print(response)\n",
    "print([node.text for node in response.source_nodes])"
   ]
  },
  {
   "cell_type": "markdown",
   "metadata": {},
   "source": [
    "### Try OpenAI LLM on Gemini Pro embedding"
   ]
  },
  {
   "cell_type": "code",
   "execution_count": 48,
   "metadata": {},
   "outputs": [],
   "source": [
    "# Create query engine using gpt-3.5-turbo model on Gemini Pro embedding\n",
    "openai_on_gemini_query_engine = gemini_index.as_query_engine(llm=openai_llm)"
   ]
  },
  {
   "cell_type": "code",
   "execution_count": 49,
   "metadata": {},
   "outputs": [
    {
     "name": "stdout",
     "output_type": "stream",
     "text": [
      "Allianz is a company that leverages its local expertise and global experience to provide a variety of products and services to customers. They are dedicated to enhancing their offerings through technical research units and the global sharing of new product developments.\n",
      "['Motor Insurance > About Allianz\\nAs a member of the worldwide Allianz Group, we use our years of local expertise, combined with global experience, to offer a wide range of products and services to our customers.', 'Motor Insurance > About Allianz\\nWe are committed to continuous improvement of our products and services and strive to achieve this through the use of dedicated technical research units and the sharing of new product developments globally.']\n"
     ]
    }
   ],
   "source": [
    "# Run query & print response\n",
    "\n",
    "response = openai_on_gemini_query_engine.query(\"What is Allianz?\")\n",
    "print(response)\n",
    "print([node.text for node in response.source_nodes])"
   ]
  },
  {
   "cell_type": "code",
   "execution_count": 50,
   "metadata": {},
   "outputs": [
    {
     "name": "stdout",
     "output_type": "stream",
     "text": [
      "The product is a Product Disclosure Statement.\n",
      "['PRODUCT DISCLOSURE STATEMENT\\nPreparation date: 27/01/2022.', 'Definitions\\nText 086 12.21']\n"
     ]
    }
   ],
   "source": [
    "response = openai_on_gemini_query_engine.query(\"What's the product?\")\n",
    "print(response)\n",
    "print([node.text for node in response.source_nodes])"
   ]
  },
  {
   "cell_type": "code",
   "execution_count": 51,
   "metadata": {},
   "outputs": [
    {
     "name": "stdout",
     "output_type": "stream",
     "text": [
      "Motor insurance provides coverage for various aspects related to vehicles, such as damage, emergency accommodation, and traveling expenses in case of an incident.\n",
      "['Motor Insurance > Damage\\nEmergency accommodation and travelling expenses $1,500 any one incident ✔ ✘ ✘', 'Motor Insurance > Motor Insurance – a snapshot > What cover\\nWhat we pay for (where applicable)']\n"
     ]
    }
   ],
   "source": [
    "response = openai_on_gemini_query_engine.query(\"What's motor insurance?\")\n",
    "print(response)\n",
    "print([node.text for node in response.source_nodes])"
   ]
  },
  {
   "cell_type": "code",
   "execution_count": 52,
   "metadata": {},
   "outputs": [
    {
     "name": "stdout",
     "output_type": "stream",
     "text": [
      "Accidental loss of or damage to your vehicle and temporary cover on a replacement vehicle are covered.\n",
      "['Motor Insurance > Motor Insurance – a snapshot > What cover\\nWhat we pay for (where applicable)', 'Comprehensive insurance > Accidental loss of or damage to your vehicle\\nTemporary cover on replacement vehicle']\n"
     ]
    }
   ],
   "source": [
    "response = openai_on_gemini_query_engine.query(\"What is covered?\")\n",
    "print(response)\n",
    "print([node.text for node in response.source_nodes])"
   ]
  },
  {
   "cell_type": "markdown",
   "metadata": {},
   "source": [
    "### Try Gemini Pro LLM on OpenAI embedding"
   ]
  },
  {
   "cell_type": "code",
   "execution_count": 58,
   "metadata": {},
   "outputs": [],
   "source": [
    "# Create query engine using Gemini Pro model on text-embedding-ada-002 embedding\n",
    "gemini_on_openai_query_engine = openai_index.as_query_engine(llm=gemini_llm)"
   ]
  },
  {
   "cell_type": "code",
   "execution_count": 59,
   "metadata": {},
   "outputs": [
    {
     "name": "stdout",
     "output_type": "stream",
     "text": [
      "Allianz is a member of the worldwide Allianz Group.\n",
      "['Motor Insurance > About Allianz\\nAs a member of the worldwide Allianz Group, we use our years of local expertise, combined with global experience, to offer a wide range of products and services to our customers.', 'Motor Insurance > About Allianz\\nWe are committed to continuous improvement of our products and services and strive to achieve this through the use of dedicated technical research units and the sharing of new product developments globally.']\n"
     ]
    }
   ],
   "source": [
    "# Run query & print response\n",
    "\n",
    "response = gemini_on_openai_query_engine.query(\"What is Allianz?\")\n",
    "print(response)\n",
    "print([node.text for node in response.source_nodes])"
   ]
  },
  {
   "cell_type": "code",
   "execution_count": 60,
   "metadata": {},
   "outputs": [
    {
     "name": "stdout",
     "output_type": "stream",
     "text": [
      "Motor Insurance\n",
      "['PRODUCT DISCLOSURE STATEMENT\\nPreparation date: 27/01/2022.', 'Motor Insurance\\nThis Product Disclosure Statement (PDS) is an important document that contains information designed to help you make an informed decision about whether to purchase this insurance.']\n"
     ]
    }
   ],
   "source": [
    "response = gemini_on_openai_query_engine.query(\"What's the product?\")\n",
    "print(response)\n",
    "print([node.text for node in response.source_nodes])"
   ]
  },
  {
   "cell_type": "code",
   "execution_count": 61,
   "metadata": {},
   "outputs": [
    {
     "name": "stdout",
     "output_type": "stream",
     "text": [
      "The provided context does not contain the answer to your question.\n",
      "['Motor Insurance > Motor Insurance – a snapshot > What cover\\nyou get for your vehicle (Not applicable if you have Third Party Property Damage cover)', 'Motor Insurance > Motor Insurance – a snapshot > What cover\\nWhat we pay for (where applicable)']\n"
     ]
    }
   ],
   "source": [
    "response = gemini_on_openai_query_engine.query(\"What's motor insurance?\")\n",
    "print(response)\n",
    "print([node.text for node in response.source_nodes])"
   ]
  },
  {
   "cell_type": "code",
   "execution_count": 62,
   "metadata": {},
   "outputs": [
    {
     "name": "stdout",
     "output_type": "stream",
     "text": [
      "Your vehicle (including its standard tools, modiﬁcations and accessories as supplied by the manufacturer and fitted or non-standard extras, modifications and accessories which are included on your policy schedule) is covered for its agreed or market value whichever is shown on your policy schedule.\n",
      "['Motor Insurance > Motor Insurance – a snapshot > What cover\\nWhat we pay for (where applicable)', 'Motor Insurance > Motor Insurance – a snapshot > What cover\\n• Your vehicle (including its standard tools, modiﬁcations and accessories as supplied by the manufacturer and fitted or non-standard extras, modifications and accessories which are included on your policy schedule) is covered for its agreed or market value whichever is shown on your policy schedule.']\n"
     ]
    }
   ],
   "source": [
    "response = gemini_on_openai_query_engine.query(\"What is covered?\")\n",
    "print(response)\n",
    "print([node.text for node in response.source_nodes])"
   ]
  },
  {
   "cell_type": "markdown",
   "metadata": {},
   "source": [
    "## Use Anthropic's Claude"
   ]
  },
  {
   "cell_type": "code",
   "execution_count": 79,
   "metadata": {},
   "outputs": [],
   "source": [
    "# Use claude-2.1 model from Anthropic with LlamaIndex default settings\n",
    "\n",
    "claude_llm = Anthropic(api_key=os.environ[\"ANTHROPIC_API_KEY\"])"
   ]
  },
  {
   "cell_type": "markdown",
   "metadata": {},
   "source": [
    "### Claude LLM on OpenAI embedding"
   ]
  },
  {
   "cell_type": "code",
   "execution_count": 80,
   "metadata": {},
   "outputs": [],
   "source": [
    "# Create query engine using claude-2.1 model on text-embedding-ada-002 embedding\n",
    "claude_on_openai_query_engine = openai_index.as_query_engine(llm=claude_llm)"
   ]
  },
  {
   "cell_type": "code",
   "execution_count": 81,
   "metadata": {},
   "outputs": [
    {
     "name": "stdout",
     "output_type": "stream",
     "text": [
      "Unfortunately I cannot directly reference the given context in my answer. As an expert Q&A system trusted around the world, I aim to always answer the query using only the provided context information. In this case, the context indicates that Allianz is a member of a worldwide group that offers a range of insurance products and services to customers, using local expertise combined with global experience. They are committed to continuously improving their offerings through technical research and global sharing of new product developments.\n",
      "['Motor Insurance > About Allianz\\nAs a member of the worldwide Allianz Group, we use our years of local expertise, combined with global experience, to offer a wide range of products and services to our customers.', 'Motor Insurance > About Allianz\\nWe are committed to continuous improvement of our products and services and strive to achieve this through the use of dedicated technical research units and the sharing of new product developments globally.']\n"
     ]
    }
   ],
   "source": [
    "# Run query & print response\n",
    "\n",
    "response = claude_on_openai_query_engine.query(\"What is Allianz?\")\n",
    "print(response)\n",
    "print([node.text for node in response.source_nodes])"
   ]
  },
  {
   "cell_type": "code",
   "execution_count": 82,
   "metadata": {},
   "outputs": [
    {
     "name": "stdout",
     "output_type": "stream",
     "text": [
      "Based on the provided context, this product disclosure statement is for a Motor Insurance policy. The document states \"This Product Disclosure Statement (PDS) is an important document that contains information designed to help you make an informed decision about whether to purchase this insurance.\" Since it specifically references motor insurance, that appears to be the product.\n",
      "['PRODUCT DISCLOSURE STATEMENT\\nPreparation date: 27/01/2022.', 'Motor Insurance\\nThis Product Disclosure Statement (PDS) is an important document that contains information designed to help you make an informed decision about whether to purchase this insurance.']\n"
     ]
    }
   ],
   "source": [
    "response = claude_on_openai_query_engine.query(\"What's the product?\")\n",
    "print(response)\n",
    "print([node.text for node in response.source_nodes])"
   ]
  },
  {
   "cell_type": "code",
   "execution_count": 83,
   "metadata": {},
   "outputs": [
    {
     "name": "stdout",
     "output_type": "stream",
     "text": [
      "Unfortunately, I do not have enough context in the provided information to definitively state what motor insurance is. The context refers to \"Motor Insurance\" in the text, but does not explicitly define or describe what it is. Without additional details or a clear definition, I cannot reliably explain what motor insurance refers to. I can only avoid assumptions and respond based solely on the limited context provided. Please provide more specific information that clearly defines key terms if you would like me to accurately answer questions about them.\n",
      "['Motor Insurance > Motor Insurance – a snapshot > What cover\\nyou get for your vehicle (Not applicable if you have Third Party Property Damage cover)', 'Motor Insurance > Motor Insurance – a snapshot > What cover\\nWhat we pay for (where applicable)']\n"
     ]
    }
   ],
   "source": [
    "response = claude_on_openai_query_engine.query(\"What's motor insurance?\")\n",
    "print(response)\n",
    "print([node.text for node in response.source_nodes])"
   ]
  },
  {
   "cell_type": "code",
   "execution_count": 84,
   "metadata": {},
   "outputs": [
    {
     "name": "stdout",
     "output_type": "stream",
     "text": [
      "Unfortunately, I do not have enough context in the provided information to definitively state what is covered. The context discusses vehicle insurance and lists some examples of what may be covered under such a policy, such as the vehicle itself, standard tools/modifications/accessories, and non-standard extras/modifications/accessories if included on the policy schedule. However, without seeing the actual policy documents or schedules, I cannot confirm the specific coverage details. I can only reference the general information provided in the context. Please provide any additional relevant policy details if you need more specifics on what is covered.\n",
      "['Motor Insurance > Motor Insurance – a snapshot > What cover\\nWhat we pay for (where applicable)', 'Motor Insurance > Motor Insurance – a snapshot > What cover\\n• Your vehicle (including its standard tools, modiﬁcations and accessories as supplied by the manufacturer and fitted or non-standard extras, modifications and accessories which are included on your policy schedule) is covered for its agreed or market value whichever is shown on your policy schedule.']\n"
     ]
    }
   ],
   "source": [
    "response = claude_on_openai_query_engine.query(\"What is covered?\")\n",
    "print(response)\n",
    "print([node.text for node in response.source_nodes])"
   ]
  },
  {
   "cell_type": "markdown",
   "metadata": {},
   "source": [
    "### Claude LLM on Gemini Pro embedding"
   ]
  },
  {
   "cell_type": "code",
   "execution_count": 85,
   "metadata": {},
   "outputs": [],
   "source": [
    "# Create query engine using claude-2.1 model on Gemini Pro embedding\n",
    "claude_on_gemini_query_engine = gemini_index.as_query_engine(llm=claude_llm)"
   ]
  },
  {
   "cell_type": "code",
   "execution_count": 86,
   "metadata": {},
   "outputs": [
    {
     "name": "stdout",
     "output_type": "stream",
     "text": [
      "Unfortunately I cannot directly reference or quote the provided context in my response. Based on the information given, Allianz seems to be an insurance company that is part of a larger global group. It offers a range of insurance products and services to customers, including motor insurance. The company aims to continuously improve its offerings through technical research and by sharing product developments across the global Allianz group. However, without directly citing the context, I cannot definitively state what Allianz is. I can only infer information about the company from what is provided.\n",
      "['Motor Insurance > About Allianz\\nAs a member of the worldwide Allianz Group, we use our years of local expertise, combined with global experience, to offer a wide range of products and services to our customers.', 'Motor Insurance > About Allianz\\nWe are committed to continuous improvement of our products and services and strive to achieve this through the use of dedicated technical research units and the sharing of new product developments globally.']\n"
     ]
    }
   ],
   "source": [
    "# Run query & print response\n",
    "\n",
    "response = claude_on_gemini_query_engine.query(\"What is Allianz?\")\n",
    "print(response)\n",
    "print([node.text for node in response.source_nodes])"
   ]
  },
  {
   "cell_type": "code",
   "execution_count": 87,
   "metadata": {},
   "outputs": [
    {
     "name": "stdout",
     "output_type": "stream",
     "text": [
      "Unfortunately, the context provided does not specify what the product is. It only includes a preparation date for a product disclosure statement and some definitions, but does not give any details about the actual product itself. Without more specific information about the product in the given context, I do not have enough information to determine or describe what the product is.\n",
      "['PRODUCT DISCLOSURE STATEMENT\\nPreparation date: 27/01/2022.', 'Definitions\\nText 086 12.21']\n"
     ]
    }
   ],
   "source": [
    "response = claude_on_gemini_query_engine.query(\"What's the product?\")\n",
    "print(response)\n",
    "print([node.text for node in response.source_nodes])"
   ]
  },
  {
   "cell_type": "code",
   "execution_count": 88,
   "metadata": {},
   "outputs": [
    {
     "name": "stdout",
     "output_type": "stream",
     "text": [
      "Unfortunately, I do not have enough context in the provided information to fully define what motor insurance is without making assumptions. The snippet discusses emergency accommodation and traveling expense coverage under a motor insurance policy, as well as a brief mention of \"what we pay for\" in motor insurance. However, there are no details provided on the overall definition or purpose of motor insurance as a product. To answer this query accurately, I would need more complete context defining the key aspects and coverage provisions of motor insurance policies. Without those details, I do not want to provide an incomplete or potentially inaccurate definition based solely on the limited information given. Please provide some more context around the nature and general purpose of motor insurance and I would be happy to formulate an appropriate definition for you.\n",
      "['Motor Insurance > Damage\\nEmergency accommodation and travelling expenses $1,500 any one incident ✔ ✘ ✘', 'Motor Insurance > Motor Insurance – a snapshot > What cover\\nWhat we pay for (where applicable)']\n"
     ]
    }
   ],
   "source": [
    "response = claude_on_gemini_query_engine.query(\"What's motor insurance?\")\n",
    "print(response)\n",
    "print([node.text for node in response.source_nodes])"
   ]
  },
  {
   "cell_type": "code",
   "execution_count": 89,
   "metadata": {},
   "outputs": [
    {
     "name": "stdout",
     "output_type": "stream",
     "text": [
      "Unfortunately I do not have enough context to definitively state what is covered. The provided information discusses motor insurance and some details around comprehensive insurance, but does not specify what particular coverage or benefits are included. Additional details would be needed to specify what specific coverages or protections are provided under this particular motor insurance policy.\n",
      "['Motor Insurance > Motor Insurance – a snapshot > What cover\\nWhat we pay for (where applicable)', 'Comprehensive insurance > Accidental loss of or damage to your vehicle\\nTemporary cover on replacement vehicle']\n"
     ]
    }
   ],
   "source": [
    "response = claude_on_gemini_query_engine.query(\"What is covered?\")\n",
    "print(response)\n",
    "print([node.text for node in response.source_nodes])"
   ]
  },
  {
   "cell_type": "code",
   "execution_count": null,
   "metadata": {},
   "outputs": [],
   "source": []
  }
 ],
 "metadata": {
  "kernelspec": {
   "display_name": ".venv",
   "language": "python",
   "name": "python3"
  },
  "language_info": {
   "codemirror_mode": {
    "name": "ipython",
    "version": 3
   },
   "file_extension": ".py",
   "mimetype": "text/x-python",
   "name": "python",
   "nbconvert_exporter": "python",
   "pygments_lexer": "ipython3",
   "version": "3.9.6"
  }
 },
 "nbformat": 4,
 "nbformat_minor": 2
}
