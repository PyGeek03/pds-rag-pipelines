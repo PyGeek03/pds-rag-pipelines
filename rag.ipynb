{
 "cells": [
  {
   "cell_type": "code",
   "execution_count": 1,
   "metadata": {},
   "outputs": [
    {
     "name": "stderr",
     "output_type": "stream",
     "text": [
      "/Users/minhluu/coding/python/ai/rag/relevance-ai_assignment/.venv/lib/python3.9/site-packages/urllib3/__init__.py:35: NotOpenSSLWarning: urllib3 v2 only supports OpenSSL 1.1.1+, currently the 'ssl' module is compiled with 'LibreSSL 2.8.3'. See: https://github.com/urllib3/urllib3/issues/3020\n",
      "  warnings.warn(\n",
      "/Users/minhluu/coding/python/ai/rag/relevance-ai_assignment/.venv/lib/python3.9/site-packages/deepeval/__init__.py:41: UserWarning: You are using deepeval version 0.21.00, however version 0.21.23 is available. You should consider upgrading via the \"pip install --upgrade deepeval\" command.\n",
      "  warnings.warn(\n"
     ]
    }
   ],
   "source": [
    "# Imports\n",
    "import os\n",
    "import nest_asyncio\n",
    "import random\n",
    "\n",
    "from dotenv import load_dotenv\n",
    "\n",
    "## LLMSherpa\n",
    "from llmsherpa.readers import LayoutPDFReader\n",
    "\n",
    "## LlamaIndex\n",
    "from llama_index.core import VectorStoreIndex, Document, StorageContext\n",
    "from llama_index.vector_stores.duckdb import DuckDBVectorStore\n",
    "from llama_index.llms.openai import OpenAI\n",
    "from llama_index.embeddings.openai import OpenAIEmbedding, OpenAIEmbeddingMode, OpenAIEmbeddingModelType\n",
    "from llama_index.llms.anthropic import Anthropic\n",
    "from llama_index.llms.gemini import Gemini\n",
    "from llama_index.embeddings.gemini import GeminiEmbedding\n",
    "from llama_index.core.llama_dataset.generator import RagDatasetGenerator, LabelledRagDataset\n",
    "from llama_index.core.evaluation import FaithfulnessEvaluator\n",
    "\n",
    "## Traceloop\n",
    "from traceloop.sdk import Traceloop\n",
    "\n",
    "## LangChain\n",
    "from langchain_community.document_loaders import UnstructuredPDFLoader\n",
    "\n",
    "## DeepEval\n",
    "from deepeval.integrations.llama_index import DeepEvalFaithfulnessEvaluator\n"
   ]
  },
  {
   "cell_type": "code",
   "execution_count": 2,
   "metadata": {},
   "outputs": [
    {
     "data": {
      "text/plain": [
       "True"
      ]
     },
     "execution_count": 2,
     "metadata": {},
     "output_type": "execute_result"
    }
   ],
   "source": [
    "# os.environ[\"TRACELOOP_API_KEY\"] = \"your_traceloop_api_key\"\n",
    "# os.environ[\"GOOGLE_API_KEY\"] = \"your_google_api_key\"\n",
    "# os.environ[\"OPENAI_API_KEY\"] = \"your_openai_api_key\"\n",
    "# os.environ[\"ANTHROPIC_API_KEY\"] = \"your_anthropic_api_key\"\n",
    "\n",
    "# Loads .env file with the above API keys\n",
    "load_dotenv(override=True)"
   ]
  },
  {
   "cell_type": "code",
   "execution_count": 3,
   "metadata": {},
   "outputs": [
    {
     "name": "stdout",
     "output_type": "stream",
     "text": [
      "\u001b[32mTraceloop syncing configuration and prompts\u001b[39m\n",
      "\u001b[32mTraceloop exporting traces to https://api.traceloop.com authenticating with bearer token\n",
      "\u001b[39m\n"
     ]
    }
   ],
   "source": [
    "# Enable OpenTelemetry auto-instrumentation using Traceloop's OpenLLMetry\n",
    "Traceloop.init(disable_batch=True, api_key=os.environ[\"TRACELOOP_API_KEY\"])"
   ]
  },
  {
   "cell_type": "markdown",
   "metadata": {},
   "source": [
    "## Load data"
   ]
  },
  {
   "cell_type": "code",
   "execution_count": 4,
   "metadata": {},
   "outputs": [
    {
     "name": "stdout",
     "output_type": "stream",
     "text": [
      "Error reading PDF directly, retrying using UnstructuredPDFLoader: [pdf_path=./data/NRMA.pdf] [error='return_dict']\n",
      "\n",
      " 0\n",
      "NRMA > Product Disclosure Statement And Policy Booklet (PDS)\n",
      "NSW, ACT, TAS and QLD This Product Disclosure Statement and Policy Booklet (PDS) was prepared on 2 August 2022.\n",
      "The information in this PDS is current at that date.\n",
      "From time to time, we may include more up-to-date information in the PDS that is not materially adverse without notifying you.\n",
      "You can get more up-to-date information by calling 132 132 or visiting nrma.com.au.\n",
      "If you ask us for any updates, we will give you a free copy.\n",
      "If we need to, we will issue a supplementary or replacement PDS.\n",
      "©2022.\n",
      "\n",
      " 1\n",
      "NRMA > Supplementary Product Disclosure Statement\n",
      "This Supplementary Product Disclosure Statement (SPDS) is dated 10 October 2023 and will apply to all policies under the NRMA Insurance Motor NSW, ACT, TAS and QLD Insurance Product Disclosure Statement and Policy Booklet (PDS), (Prepared on 02/08/2022) version G018066 08/22; taken out with a new business effective date on or after 11 October 2023, or with a renewal effective date on or after 13 November 2023.\n",
      "\n",
      " 2\n",
      "NRMA > Supplementary Product Disclosure Statement\n",
      "The information in this SPDS updates the terms contained in the PDS and should be read together with the PDS and any other applicable SPDS.\n",
      "\n",
      " 3\n",
      "NRMA > Supplementary Product Disclosure Statement\n",
      "If you would like another copy of your PDS, please go to nrma.com.au.\n",
      "\n",
      " 4\n",
      "NRMA > Supplementary Product Disclosure Statement\n",
      "Page 1 of 4\n",
      "\n",
      " 5\n",
      "NRMA > Supplementary Product Disclosure Statement\n",
      "Changes to your PDS Your PDS is amended by the following: Change 1 – Amendment to ‘Your responsibilities’ Your PDS is amended by removing the ‘Authorising repairs to your vehicle’ section on page 61 and replacing it with the following: You must not start, approve or authorise any repairs to your vehicle under any circumstances, unless: we allow it under ‘Emergency repairs’ – see pages 17, 29 and 44, or you obtain our prior written consent by contacting us on 131 123.\n",
      "\n",
      " 6\n",
      "NRMA > Supplementary Product Disclosure Statement\n",
      "You should seek our agreement before incurring any out-of-pocket expenses to ensure you will be able to claim those costs back on your policy.\n",
      "If you do not obtain our agreement first, we will only pay reasonable costs up to the amount we would have agreed to pay had you obtained our prior agreement.\n",
      "Refer to the ‘How we settle your claim’ section of the policy for information in relation to what are reasonable costs.\n",
      "\n",
      " 7\n",
      "NRMA > Supplementary Product Disclosure Statement\n",
      "If we have cash settled your claim instead of authorising repairs and then you arrange or authorise repairs, we are not responsible for any costs associated with those repairs.\n",
      "\n",
      " 8\n",
      "NRMA > Change 2 – Amendment to ‘Emergency transport and accommodation’\n",
      "1. Your PDS is amended by replacing the dot point on page 18: we must agree to the costs before they are incurred.\n",
      "with the following: you should seek our agreement before incurring any out-of-pocket expenses to ensure you will be able to claim those costs back on your policy.\n",
      "If you do not obtain our agreement first, we will only pay reasonable costs.\n",
      "you should seek our agreement before incurring any out-of-pocket expenses to ensure you will be able to claim those costs back on your policy.\n",
      "If you do not obtain our agreement first, we will only pay the reasonable costs.\n",
      "\n",
      " 9\n",
      "NRMA > Change 2 – Amendment to ‘Emergency transport and accommodation’\n",
      "Change 3 – Amendment to Recovery actions Your PDS is amended by deleting the last two paragraphs in the subsection ‘Recovery action by us’ on page 71, and replacing it with the following updated wording: You must give us all the information and co-operation that we reasonably require to take the recovery action.\n",
      "We will only request information or co-operation which is relevant to pursue the recovery action and will provide an explanation as to why it is needed.\n",
      "We will act reasonably in exercising our discretion in the conduct of any legal proceedings and in the settlement of any claim while we conduct any recovery action.\n",
      "We will keep you reasonably informed and updated with the progress of proceedings.\n",
      "\n",
      " 10\n",
      "NRMA > Change 2 – Amendment to ‘Emergency transport and accommodation’\n",
      "You must not do anything unreasonable which prejudices us in taking any recovery action without our written consent.\n",
      "For example, you must not: assign your rights to anyone else; - for example, a tow truck driver or a smash repairer; or opt-out of any representative or group proceedings taken by us.\n",
      "\n",
      " 11\n",
      "NRMA > Change 2 – Amendment to ‘Emergency transport and accommodation’\n",
      "This SPDS is issued by Insurance Australia Limited ABN 11 000 016 722 AFS Licence No. 227681 trading as NRMA Insurance\n",
      "\n",
      " 12\n",
      "NRMA > SPDS007 10/23\n",
      "Thank you for choosing NRMA Insurance.\n",
      "\n",
      " 13\n",
      "NRMA > SPDS007 10/23\n",
      "At NRMA Insurance, we have been protecting Australians and the things they value for over 90 years.\n",
      "Over that time, we’ve built a wealth of invaluable knowledge and experience.\n",
      "This helps us provide you with great customer service and quality cover, to better protect the things you value.\n",
      "\n",
      " 14\n",
      "NRMA > SPDS007 10/23\n",
      "We’re always there when you need us.\n",
      "Our 24 hour Claims line offers a simpler way to make a claim, so that you’re back on your feet as quickly as possible.\n",
      "\n",
      " 15\n",
      "NRMA > SPDS007 10/23\n",
      "This booklet contains information you need to know about your insurance policy.\n",
      "If you have any questions, or if there’s anything we can help with, get in touch today.\n",
      "\n",
      " 16\n",
      "NRMA > Visit nrma.com.au\n",
      "Call 132 132\n",
      "\n",
      " 17\n",
      "NRMA > Visit nrma.com.au\n",
      "Visit a local branch Motor Insurance at a glance – quick summary Here’s a summary of the key details about Motor Insurance.\n",
      "In this Product Disclosure Statement and Policy Booklet (PDS), we set out the full details about your cover and any limits, exclusions and conditions that apply.\n",
      "\n",
      " 18\n",
      "NRMA > Visit nrma.com.au\n",
      "Under your policy, we cover: Who we cover you • anyone who has your permission to drive your vehicle You can choose from these 4 types of insurance Type of insurance Comprehensive Plus Insurance – our top cover • Comprehensive Insurance – our standard cover • Third Party Fire & Theft Insurance – our basic cover with some extras • Third Party Property Damage Insurance – our basic cover Your vehicle and you What we insure we insure your vehicle for an agreed value or market value as shown on your current Certificate of Insurance and including:\n",
      "– any standard equipment that comes with it, plus – any modifications, options or accessories that are attached to it we insure you for claims that are made against you where the use of your vehicle causes loss or damage to someone else’s property The types of vehicles we insure include: cars • utes • motorcycles – which include scooters (you can only insure motorcycles under Comprehensive Insurance or Third Party Property Damage Insurance) page 54 What we pay Your insurance cover Also available for motorcycles When a person we cover makes a claim and is entitled to liability cover, then we will: act for them or arrange for a lawyer to represent them • attempt to resolve the claim • defend the claim in a court or tribunal We will decide whether to defend or resolve a claim and how much to pay to resolve a claim.\n",
      "\n",
      " 19\n",
      "NRMA > Visit nrma.com.au\n",
      "If we agree to cover your claim, then we will: decide whether to repair your vehicle or pay you the reasonable cost of repairs as determined by us or pay you the agreed value or market value that applies under your policy pay for any other benefits that apply to your policy • pay for any options you have added to your policy • deduct any amounts that apply (for example, excess, unpaid premium or any unused registration and CTP insurance premium) Comprehensive Plus Insurance – our top cover ✔ Loss or damage to your vehicle ✔ Other benefits – up to 15 benefits (we cover you for extra things like a hire car and a taxi home after an incident we cover) ✔ Options you can add – you pay extra for this ✔ Liability cover Comprehensive Insurance – our standard cover ✔ Other benefits – up to 14 benefits ✔ Options you can add – you pay extra for this Third Party Fire & Theft Insurance – our basic cover with some extras ✔ Loss or damage to your vehicle (fire, theft or attempted theft only) ✔ Other benefits – up to 7 benefits ✔ Liability cover Third Party Property Damage Insurance – our basic cover To compare these 4 types of insurance, see the next page Key benefits and features of Motor Insurance This table compares the cover we provide under the 4 types of insurance we offer.\n",
      "In this PDS, we set out the full details about your cover and any limits, exclusions and conditions that apply.\n",
      "\n",
      " 0\n",
      "Allianz > PRODUCT DISCLOSURE STATEMENT\n",
      "Preparation date: 27/01/2022.\n",
      "\n",
      " 1\n",
      "Allianz > Motor Insurance\n",
      "This Product Disclosure Statement (PDS) is an important document that contains information designed to help you make an informed decision about whether to purchase this insurance.\n",
      "\n",
      " 2\n",
      "Allianz > Motor Insurance\n",
      "You need to ensure you have all the protection you need, so please read through this PDS carefully, and store in a safe place for easy reference.\n",
      "\n",
      " 3\n",
      "Allianz > Motor Insurance > About Allianz\n",
      "As a member of the worldwide Allianz Group, we use our years of local expertise, combined with global experience, to offer a wide range of products and services to our customers.\n",
      "\n",
      " 4\n",
      "Allianz > Motor Insurance > About Allianz\n",
      "We are committed to continuous improvement of our products and services and strive to achieve this through the use of dedicated technical research units and the sharing of new product developments globally.\n",
      "\n",
      " 5\n",
      "Allianz > Motor Insurance > About Allianz\n",
      "When you need to make a claim we are there for you via our 24 hour claims line so you can get back on the road again as quickly as possible.\n",
      "\n",
      " 6\n",
      "Allianz > Motor Insurance > Motor Insurance – a snapshot\n",
      "This is a high level snapshot only.\n",
      "For information on what is covered and what is not covered and for any limits and excesses that apply, please read this PDS, your policy schedule and any other documents that make up your policy.\n",
      "\n",
      " 7\n",
      "Allianz > Motor Insurance > Motor Insurance – a snapshot > Who we\n",
      " | cover | • • | You; and any licensed driver you give permission to drive the vehicle except someone noted as a declined driver on the policy.\n",
      " | --- | --- | ---\n",
      " | Types of | • | Comprehensive insurance\n",
      "\n",
      "\n",
      " 8\n",
      "Allianz > Motor Insurance > Motor Insurance – a snapshot > cover we can offer\n",
      "– Accidental loss of (including theft) or accidental damage to your vehicle as listed under the Comprehensive insurance section including Other benefits and Optional benefits (where applicable).\n",
      "See page 18.\n",
      "\n",
      " 9\n",
      "Allianz > Motor Insurance > Motor Insurance – a snapshot > cover we can offer\n",
      "– Liability cover as specified in the legal liability section.\n",
      "See page 26.\n",
      "• Third Party Property Damage insurance\n",
      "– Liability cover as specified in the legal liability section.\n",
      "See page 26.\n",
      "• Third Party Fire and Theft insurance\n",
      "\n",
      " 10\n",
      "Allianz > Motor Insurance > Motor Insurance – a snapshot > cover we can offer\n",
      "Please note that Third Party Fire and Theft cover is no longer available for new policies.\n",
      "It is only available to existing customers with Third Party Fire and Theft cover who are renewing their policy.\n",
      "– Accidental loss of or accidental damage to your vehicle caused by fire, explosion, lightning, or theft as listed under the Third Party Fire and Theft insurance section including Other benefits.\n",
      "See page 29.\n",
      "Liability cover as specified in the legal liability section.\n",
      "See page 26.\n",
      "\n",
      " 11\n",
      "Allianz > Motor Insurance > Motor Insurance – a snapshot > cover we can offer\n",
      "1Text 086 1221_D1.indd\n",
      "\n",
      " 12\n",
      "Allianz > Motor Insurance > Motor Insurance – a snapshot > What cover\n",
      "you get for your vehicle (Not applicable if you have Third Party Property Damage cover)\n",
      "\n",
      " 13\n",
      "Allianz > Motor Insurance > Motor Insurance – a snapshot > What cover\n",
      "• Your vehicle (including its standard tools, modiﬁcations and accessories as supplied by the manufacturer and fitted or non-standard extras, modifications and accessories which are included on your policy schedule) is covered for its agreed or market value whichever is shown on your policy schedule.\n",
      "\n",
      " 14\n",
      "Allianz > Motor Insurance > Motor Insurance – a snapshot > What cover\n",
      "If we agree to pay a claim for covered loss of or damage to your vehicle we will:\n",
      "• at our option (acting reasonably), repair or pay you the reasonable cost of repairs or the agreed value or market value that applies on the policy; and\n",
      "• pay for other covered benefits that apply, subject to the relevant limits.\n",
      "\n",
      " 15\n",
      "Allianz > Motor Insurance > Motor Insurance – a snapshot > What cover\n",
      "What we pay for (where applicable)\n",
      "\n",
      " 16\n",
      "Allianz > Motor Insurance > Motor Insurance – a snapshot > What cover\n",
      "What you pay for If you make a claim and are responsible or at fault for the accident, you will be required to pay:\n",
      "\n",
      " 17\n",
      "Allianz > Motor Insurance > Summary of policy features, beneﬁts and exclusions\n",
      "Our motor insurance policy has been designed to provide you with different types of cover to choose from.\n",
      "You need to decide if this insurance is right for you and you should read this PDS and all of the documents that make up the policy to ensure you have the cover you need.\n",
      "The cover you choose will be shown on your policy schedule.\n",
      "\n",
      " 18\n",
      "Allianz > Motor Insurance > Summary of policy features, beneﬁts and exclusions\n",
      "• any amounts that might apply such as an excess.\n",
      "\n",
      " 19\n",
      "Allianz > Motor Insurance > Summary of policy features, beneﬁts and exclusions > Comprehensive Third Party Property > Damage\n",
      "2Text 086 1221_D1.indd Below we have included a summary of the policy features, options that are available under each type of cover that you can choose to apply for, and exclusions that may apply. The table is a guide only. Each cover noted is subject to terms, conditions, exclusions and limitations that are not listed in the summary. You are not automatically insured under each section. For information on what is covered and what is not covered, and any limits and excesses that apply, please read your policy schedule and this PDS carefully including the “When we will not pay your claim” section. Summary of features, options and exclusions Third Party Fire & Theft Only available to existing customers with Third Party Fire and Theft cover who are renewing their policy Features, benefits and exclusions Accidental loss of or damage to your vehicle ✔ ✘ ✔\n"
     ]
    }
   ],
   "source": [
    "# Split PDF into \"context-aware\" chunks, using LayoutPDFReader from llmsherpa API running locally via Docker.\n",
    "\n",
    "llmsherpa_api_url = \"http://localhost:5010/api/parseDocument?renderFormat=all&applyOcr=yes&useNewIndentParser=yes\"\n",
    "companies = [\"NRMA\", \"Allianz\"]\n",
    "docs = []\n",
    "\n",
    "for company in companies:\n",
    "    # Load PDS file for company\n",
    "    pdf_path = f\"./data/{company}.pdf\"\n",
    "\n",
    "    try:\n",
    "        pdf_reader = LayoutPDFReader(llmsherpa_api_url)\n",
    "        llmsherpa_pdf_doc = pdf_reader.read_pdf(pdf_path)\n",
    "    except Exception as e:\n",
    "        print(f\"Error reading PDF directly, retrying using UnstructuredPDFLoader: [pdf_path={pdf_path}] [error={e}]\")\n",
    "        loader = UnstructuredPDFLoader(pdf_path)\n",
    "        raw_pdf = loader.load()[0].page_content\n",
    "        llmsherpa_pdf_doc = pdf_reader.read_pdf(\"\", contents=raw_pdf)\n",
    "\n",
    "    llamaindex_docs = [\n",
    "        Document(text=company + \" > \" + chunk.to_context_text(), extra_info={}) for chunk in llmsherpa_pdf_doc.chunks()\n",
    "    ]\n",
    "\n",
    "    # Check the chunks\n",
    "    for i in range(20):\n",
    "        print(\"\\n\", i)\n",
    "        print(llamaindex_docs[i].text)\n",
    "\n",
    "    docs.extend(llamaindex_docs)\n"
   ]
  },
  {
   "cell_type": "code",
   "execution_count": 81,
   "metadata": {},
   "outputs": [],
   "source": [
    "# Try local Mistral via Ollama (very slow)\n",
    "\n",
    "# from llama_index.embeddings.ollama import OllamaEmbedding\n",
    "# from llama_index.llms.ollama import Ollama\n",
    "\n",
    "# mistral_ollama_embedding = OllamaEmbedding(\n",
    "#     model_name=\"mistral\",\n",
    "#     base_url=\"http://localhost:11434\",\n",
    "#     ollama_additional_kwargs={\"mirostat\": 0},\n",
    "# )\n",
    "# mistral_ollama_llm = Ollama(model=\"mistral\", request_timeout=30.0)"
   ]
  },
  {
   "cell_type": "markdown",
   "metadata": {},
   "source": [
    "## Use Gemini Pro"
   ]
  },
  {
   "cell_type": "code",
   "execution_count": 5,
   "metadata": {},
   "outputs": [],
   "source": [
    "GOOGLE_API_KEY = os.environ[\"GOOGLE_API_KEY\"]\n",
    "\n",
    "gemini_llm = Gemini(model_name=\"models/gemini-pro\", api_key=GOOGLE_API_KEY)\n",
    "gemini_embedding = GeminiEmbedding(\n",
    "    model_name=\"models/embedding-001\", api_key=GOOGLE_API_KEY\n",
    ")"
   ]
  },
  {
   "cell_type": "code",
   "execution_count": 6,
   "metadata": {},
   "outputs": [],
   "source": [
    "# Create VectorStore using DuckDB with disk persistence (takes time...)\n",
    "gemini_index_vector_store = DuckDBVectorStore(embed_dim=1536, database_name=\"gemini_index_pg.duckdb\", persist_dir=\"./persist/\")\n",
    "gemini_index_storage_context = StorageContext.from_defaults(vector_store=gemini_index_vector_store)"
   ]
  },
  {
   "cell_type": "code",
   "execution_count": 7,
   "metadata": {},
   "outputs": [],
   "source": [
    "# Create VectorStoreIndex using Gemini Pro (very slow...)\n",
    "gemini_index = VectorStoreIndex.from_documents(\n",
    "    documents=docs,\n",
    "    embed_model=gemini_embedding,\n",
    "    # storage_context=gemini_index_storage_context\n",
    ")"
   ]
  },
  {
   "cell_type": "code",
   "execution_count": 8,
   "metadata": {},
   "outputs": [],
   "source": [
    "# Create query engine based on the above Gemini Pro VectorStoreIndex\n",
    "gemini_query_engine = gemini_index.as_query_engine(llm=gemini_llm)"
   ]
  },
  {
   "cell_type": "code",
   "execution_count": 9,
   "metadata": {},
   "outputs": [
    {
     "name": "stdout",
     "output_type": "stream",
     "text": [
      "Allianz is a member of the worldwide Allianz Group that offers a wide range of products and services to its customers.\n",
      "['Allianz > Motor Insurance > About Allianz\\nAs a member of the worldwide Allianz Group, we use our years of local expertise, combined with global experience, to offer a wide range of products and services to our customers.', 'Allianz > Privacy notice\\n47Text 086 1221_D1.indd']\n"
     ]
    }
   ],
   "source": [
    "# Run query & print response\n",
    "\n",
    "response = gemini_query_engine.query(\"What is Allianz?\")\n",
    "print(response)\n",
    "print([node.text for node in response.source_nodes])"
   ]
  },
  {
   "cell_type": "code",
   "execution_count": 10,
   "metadata": {},
   "outputs": [
    {
     "name": "stdout",
     "output_type": "stream",
     "text": [
      "The product is not specified in the provided context.\n",
      "['NRMA > Supplementary Product Disclosure Statement\\nPage 1 of 4', 'Allianz > PRODUCT DISCLOSURE STATEMENT\\nPreparation date: 27/01/2022.']\n"
     ]
    }
   ],
   "source": [
    "response = gemini_query_engine.query(\"What's the product?\")\n",
    "print(response)\n",
    "print([node.text for node in response.source_nodes])"
   ]
  },
  {
   "cell_type": "code",
   "execution_count": 11,
   "metadata": {},
   "outputs": [
    {
     "name": "stdout",
     "output_type": "stream",
     "text": [
      "Comprehensive Insurance is the standard Motor Insurance cover you can have for your vehicle.\n",
      "['NRMA > Third Party Property Damage Insurance\\n2 Comprehensive Plus Insurance', \"NRMA > Insurance 3\\nComprehensive Insurance is the standard Motor Insurance cover you can have for your vehicle.\\nIt's also available for motorcycles.\"]\n"
     ]
    }
   ],
   "source": [
    "response = gemini_query_engine.query(\"What's motor insurance?\")\n",
    "print(response)\n",
    "print([node.text for node in response.source_nodes])"
   ]
  },
  {
   "cell_type": "code",
   "execution_count": 12,
   "metadata": {},
   "outputs": [
    {
     "name": "stdout",
     "output_type": "stream",
     "text": [
      "The provided context does not specify what is covered, so I cannot answer this question from the provided context.\n",
      "['Allianz > Motor Insurance > Motor Insurance – a snapshot > What cover\\nWhat we pay for (where applicable)', 'NRMA > Comprehensive\\nNot covered • any items that are in your trailer or caravan.']\n"
     ]
    }
   ],
   "source": [
    "response = gemini_query_engine.query(\"What is covered?\")\n",
    "print(response)\n",
    "print([node.text for node in response.source_nodes])"
   ]
  },
  {
   "cell_type": "code",
   "execution_count": null,
   "metadata": {},
   "outputs": [
    {
     "name": "stdout",
     "output_type": "stream",
     "text": [
      "The provided context does not mention who is covered, so I cannot answer this question from the provided context.\n",
      "['Motor Insurance > Motor Insurance – a snapshot > What cover\\nWhat we pay for (where applicable)', 'Our excesses > Basic excess\\n• Voluntary excess']\n"
     ]
    }
   ],
   "source": [
    "response = gemini_query_engine.query(\"Who is covered?\")\n",
    "print(response)\n",
    "print([node.text for node in response.source_nodes])"
   ]
  },
  {
   "cell_type": "markdown",
   "metadata": {},
   "source": [
    "## Use OpenAI's GPT"
   ]
  },
  {
   "cell_type": "markdown",
   "metadata": {},
   "source": [
    "### OpenAI LLM on OpenAI embedding (best quality + cheaper than Claude)"
   ]
  },
  {
   "cell_type": "code",
   "execution_count": 13,
   "metadata": {},
   "outputs": [],
   "source": [
    "OPENAI_API_KEY = os.environ[\"OPENAI_API_KEY\"]\n",
    "\n",
    "openai_embedding = OpenAIEmbedding(mode=OpenAIEmbeddingMode.TEXT_SEARCH_MODE, model = OpenAIEmbeddingModelType.TEXT_EMBED_ADA_002, api_key=OPENAI_API_KEY)\n",
    "openai_llm = OpenAI(model=\"gpt-3.5-turbo\", api_key=OPENAI_API_KEY)"
   ]
  },
  {
   "cell_type": "code",
   "execution_count": 14,
   "metadata": {},
   "outputs": [],
   "source": [
    "# # Create VectorStore using DuckDB with disk persistence, and\n",
    "# # VectorStoreIndex using text-embedding-ada-002 embedding from OpenAI (same as LLamaIndex's default)\n",
    "# openai_index_vector_store = DuckDBVectorStore(database_name=\"openai_index_pg.duckdb\", persist_dir=\"./persist/\")\n",
    "# openai_index_storage_context = StorageContext.from_defaults(vector_store=openai_index_vector_store)\n",
    "# openai_index = VectorStoreIndex.from_documents(\n",
    "#     documents=docs,\n",
    "#     embed_model=openai_embedding,\n",
    "#     storage_context=openai_index_storage_context)\n",
    "\n",
    "# Load existing index from DuckDB on disk\n",
    "openai_index_vector_store = DuckDBVectorStore.from_local(\"./persist/openai_index_pg.duckdb\")\n",
    "openai_index = VectorStoreIndex.from_vector_store(openai_index_vector_store)"
   ]
  },
  {
   "cell_type": "code",
   "execution_count": 42,
   "metadata": {},
   "outputs": [],
   "source": [
    "# Create query engine based on the above OpenAI VectorStoreIndex, using gpt-3.5-turbo model from OpenAI (same as LLamaIndex's default)\n",
    "openai_query_engine = openai_index.as_query_engine(llm=openai_llm)"
   ]
  },
  {
   "cell_type": "code",
   "execution_count": null,
   "metadata": {},
   "outputs": [
    {
     "name": "stdout",
     "output_type": "stream",
     "text": [
      "Allianz is a global company that offers a wide range of products and services to customers, utilizing both local expertise and global experience.\n",
      "['Allianz > Motor Insurance > About Allianz\\nAs a member of the worldwide Allianz Group, we use our years of local expertise, combined with global experience, to offer a wide range of products and services to our customers.', 'Allianz > Motor Insurance > About Allianz\\nWe are committed to continuous improvement of our products and services and strive to achieve this through the use of dedicated technical research units and the sharing of new product developments globally.', 'Allianz > Damage\\npage', 'Allianz > Comprehensive insurance\\nComprehensive insurance is the top level of Motor Insurance cover we provide.', 'Allianz > Privacy notice\\nAt Allianz, we give priority to protecting the privacy of your personal information.\\nWe do this by handling personal information in a responsible manner and in accordance with the Privacy Act 1988 (Cth).']\n"
     ]
    }
   ],
   "source": [
    "# Run query & print response\n",
    "\n",
    "response = openai_query_engine.query(\"What is Allianz?\")\n",
    "print(response)\n",
    "print([node.text for node in response.source_nodes])"
   ]
  },
  {
   "cell_type": "code",
   "execution_count": null,
   "metadata": {},
   "outputs": [
    {
     "name": "stdout",
     "output_type": "stream",
     "text": [
      "NRMA is a company that offers insurance services and products.\n",
      "['NRMA > Excess\\nThe product issuer, Insurance Australia Limited ABN 11 000 016 722 AFS Licence No. 227681 trading as NRMA Insurance.', 'NRMA > Visit nrma.com.au\\nCall 132 132', 'NRMA > Comprehensive\\nFor more details about how we settle your claim, see Section 8.\\nYour policy automatically includes access to our extensive partner repairer network.\\nWe have partnered with trusted businesses to deliver quality, safe repairs and have you back on the road as soon as possible.', 'NRMA > Visit nrma.com.au\\nPages 14 – 25', 'NRMA > Other deductions\\nHow to resolve a complaint or dispute We will always do our best to provide you the highest level of service but if you are not happy or have a complaint or dispute, here is what you can do.\\nIf you experience a problem or are not satisfied with our products, our services or a decision we have made, let us know so we can help.']\n"
     ]
    }
   ],
   "source": [
    "response = openai_query_engine.query(\"What is NRMA?\")\n",
    "print(response)\n",
    "print([node.text for node in response.source_nodes])"
   ]
  },
  {
   "cell_type": "code",
   "execution_count": null,
   "metadata": {},
   "outputs": [
    {
     "name": "stdout",
     "output_type": "stream",
     "text": [
      "NRMA offers three different insurance policies.\n",
      "['NRMA > Excess\\nThe product issuer, Insurance Australia Limited ABN 11 000 016 722 AFS Licence No. 227681 trading as NRMA Insurance.', 'NRMA > Excess\\nThis Product Disclosure Statement and Policy Booklet (PDS) is issued by Insurance Australia Limited ABN 11 000 016 722 AFS Licence No. 227681 trading as NRMA Insurance GPO Box 244 Sydney NSW 2001', 'NRMA > Visit nrma.com.au\\nVisit a local branch Motor Insurance at a glance – quick summary Here’s a summary of the key details about Motor Insurance.\\nIn this Product Disclosure Statement and Policy Booklet (PDS), we set out the full details about your cover and any limits, exclusions and conditions that apply.', 'NRMA > Third Party Property Damage Insurance\\n9 9 9 10 10 11 13', 'NRMA > Visit nrma.com.au\\nCall 132 132']\n"
     ]
    }
   ],
   "source": [
    "response = openai_query_engine.query(\"What's the number of insurance policies NRMA offer?\")\n",
    "print(response)\n",
    "print([node.text for node in response.source_nodes])"
   ]
  },
  {
   "cell_type": "code",
   "execution_count": null,
   "metadata": {},
   "outputs": [
    {
     "name": "stdout",
     "output_type": "stream",
     "text": [
      "Motor insurance typically provides coverage for vehicles against financial losses resulting from accidents, theft, or other damages. It can include protection for the vehicle itself as well as liability coverage for injuries or damages caused to others.\n",
      "['Allianz > Motor Insurance > Motor Insurance – a snapshot > What cover\\nyou get for your vehicle (Not applicable if you have Third Party Property Damage cover)', 'Allianz > Motor Insurance > Motor Insurance – a snapshot\\nThis is a high level snapshot only.\\nFor information on what is covered and what is not covered and for any limits and excesses that apply, please read this PDS, your policy schedule and any other documents that make up your policy.', 'Allianz > Motor Insurance > Motor Insurance – a snapshot > What cover\\n• Your vehicle (including its standard tools, modiﬁcations and accessories as supplied by the manufacturer and fitted or non-standard extras, modifications and accessories which are included on your policy schedule) is covered for its agreed or market value whichever is shown on your policy schedule.']\n"
     ]
    }
   ],
   "source": [
    "response = openai_query_engine.query(\"What's motor insurance?\")\n",
    "print(response)\n",
    "print([node.text for node in response.source_nodes])"
   ]
  },
  {
   "cell_type": "code",
   "execution_count": null,
   "metadata": {},
   "outputs": [
    {
     "name": "stdout",
     "output_type": "stream",
     "text": [
      "Your vehicle, including its standard tools, modifications, and accessories as supplied by the manufacturer, as well as any non-standard extras, modifications, and accessories included on your policy schedule, are covered for their agreed or market value as shown on your policy schedule.\n",
      "['Allianz > Motor Insurance > Motor Insurance – a snapshot > What cover\\n• Your vehicle (including its standard tools, modiﬁcations and accessories as supplied by the manufacturer and fitted or non-standard extras, modifications and accessories which are included on your policy schedule) is covered for its agreed or market value whichever is shown on your policy schedule.', 'Allianz > Motor Insurance > Motor Insurance – a snapshot > What cover\\nWhat we pay for (where applicable)', 'Allianz > Making a claim > The most we will pay\\nand any other amounts that may be payable under any additional or optional benefits that apply to your cover.']\n"
     ]
    }
   ],
   "source": [
    "response = openai_query_engine.query(\"What is covered?\")\n",
    "print(response)\n",
    "print([node.text for node in response.source_nodes])"
   ]
  },
  {
   "cell_type": "code",
   "execution_count": null,
   "metadata": {},
   "outputs": [
    {
     "name": "stdout",
     "output_type": "stream",
     "text": [
      "What is covered by Allianz that is not covered by NRMA is \"Your vehicle (including its standard tools, modifications and accessories as supplied by the manufacturer and fitted or non-standard extras, modifications and accessories which are included on your policy schedule) is covered for its agreed or market value whichever is shown on your policy schedule.\"\n",
      "['NRMA > Comprehensive\\nNot covered • non-emergency repairs.', 'Allianz > Motor Insurance > Motor Insurance – a snapshot > What cover\\nyou get for your vehicle (Not applicable if you have Third Party Property Damage cover)', 'NRMA > Comprehensive\\nNot covered • any items that are in your trailer or caravan.', 'NRMA > Third Party Property Damage\\nThis section outlines the general exclusions that apply to all covers and benefits we provide under your policy.', 'Allianz > Motor Insurance > Motor Insurance – a snapshot > What cover\\n• Your vehicle (including its standard tools, modiﬁcations and accessories as supplied by the manufacturer and fitted or non-standard extras, modifications and accessories which are included on your policy schedule) is covered for its agreed or market value whichever is shown on your policy schedule.']\n"
     ]
    }
   ],
   "source": [
    "response = openai_query_engine.query(\"What is covered by Allianz that is not covered by NRMA?\")\n",
    "print(response)\n",
    "print([node.text for node in response.source_nodes])"
   ]
  },
  {
   "cell_type": "code",
   "execution_count": null,
   "metadata": {},
   "outputs": [
    {
     "name": "stdout",
     "output_type": "stream",
     "text": [
      "Mobile phones, cash, standard equipment, modifications, options, or accessories that are attached to the vehicle are covered by NRMA but not covered by Allianz.\n",
      "['NRMA > Comprehensive\\nNot covered • non-emergency repairs.', 'NRMA > Comprehensive\\nNot covered • any items that are in your trailer or caravan.', 'NRMA > Third Party Property Damage\\nThis section outlines the general exclusions that apply to all covers and benefits we provide under your policy.', 'NRMA > Comprehensive\\nNot covered • mobile phones • cash • standard equipment, modifications, options or accessories that are attached to your vehicle.', 'NRMA > Third Party Property Damage\\nNot covered • any claim for, or related to, death or personal injury • loss or damage to property that you or any person we cover owns or has in your or their control or possession loss or damage caused by the use of a hire car as a substitute vehicle • the liability of a passenger who was under the influence of any alcohol or drug when the incident happened any exemplary or punitive damages, fines or penalties claimed, ordered or awarded against you or any person we cover any liability, cost or expense that arises or results from, or is in any way connected with, asbestos, whether directly or indirectly.']\n"
     ]
    }
   ],
   "source": [
    "response = openai_query_engine.query(\"What is covered by NRMA that is not covered by Allianz?\")\n",
    "print(response)\n",
    "print([node.text for node in response.source_nodes])"
   ]
  },
  {
   "cell_type": "markdown",
   "metadata": {},
   "source": [
    "### Try OpenAI LLM on Gemini Pro embedding"
   ]
  },
  {
   "cell_type": "code",
   "execution_count": null,
   "metadata": {},
   "outputs": [],
   "source": [
    "# Create query engine using gpt-3.5-turbo model on Gemini Pro embedding\n",
    "openai_on_gemini_query_engine = gemini_index.as_query_engine(llm=openai_llm)"
   ]
  },
  {
   "cell_type": "code",
   "execution_count": null,
   "metadata": {},
   "outputs": [
    {
     "name": "stdout",
     "output_type": "stream",
     "text": [
      "Allianz is a company that leverages its local expertise and global experience to provide a variety of products and services to customers. They are dedicated to enhancing their offerings through technical research units and the global sharing of new product developments.\n",
      "['Motor Insurance > About Allianz\\nAs a member of the worldwide Allianz Group, we use our years of local expertise, combined with global experience, to offer a wide range of products and services to our customers.', 'Motor Insurance > About Allianz\\nWe are committed to continuous improvement of our products and services and strive to achieve this through the use of dedicated technical research units and the sharing of new product developments globally.']\n"
     ]
    }
   ],
   "source": [
    "# Run query & print response\n",
    "\n",
    "response = openai_on_gemini_query_engine.query(\"What is Allianz?\")\n",
    "print(response)\n",
    "print([node.text for node in response.source_nodes])"
   ]
  },
  {
   "cell_type": "code",
   "execution_count": null,
   "metadata": {},
   "outputs": [
    {
     "name": "stdout",
     "output_type": "stream",
     "text": [
      "The product is a Product Disclosure Statement.\n",
      "['PRODUCT DISCLOSURE STATEMENT\\nPreparation date: 27/01/2022.', 'Definitions\\nText 086 12.21']\n"
     ]
    }
   ],
   "source": [
    "response = openai_on_gemini_query_engine.query(\"What's the product?\")\n",
    "print(response)\n",
    "print([node.text for node in response.source_nodes])"
   ]
  },
  {
   "cell_type": "code",
   "execution_count": null,
   "metadata": {},
   "outputs": [
    {
     "name": "stdout",
     "output_type": "stream",
     "text": [
      "Motor insurance provides coverage for various aspects related to vehicles, such as damage, emergency accommodation, and traveling expenses in case of an incident.\n",
      "['Motor Insurance > Damage\\nEmergency accommodation and travelling expenses $1,500 any one incident ✔ ✘ ✘', 'Motor Insurance > Motor Insurance – a snapshot > What cover\\nWhat we pay for (where applicable)']\n"
     ]
    }
   ],
   "source": [
    "response = openai_on_gemini_query_engine.query(\"What's motor insurance?\")\n",
    "print(response)\n",
    "print([node.text for node in response.source_nodes])"
   ]
  },
  {
   "cell_type": "code",
   "execution_count": null,
   "metadata": {},
   "outputs": [
    {
     "name": "stdout",
     "output_type": "stream",
     "text": [
      "Accidental loss of or damage to your vehicle and temporary cover on a replacement vehicle are covered.\n",
      "['Motor Insurance > Motor Insurance – a snapshot > What cover\\nWhat we pay for (where applicable)', 'Comprehensive insurance > Accidental loss of or damage to your vehicle\\nTemporary cover on replacement vehicle']\n"
     ]
    }
   ],
   "source": [
    "response = openai_on_gemini_query_engine.query(\"What is covered?\")\n",
    "print(response)\n",
    "print([node.text for node in response.source_nodes])"
   ]
  },
  {
   "cell_type": "markdown",
   "metadata": {},
   "source": [
    "### Try Gemini Pro LLM on OpenAI embedding"
   ]
  },
  {
   "cell_type": "code",
   "execution_count": null,
   "metadata": {},
   "outputs": [],
   "source": [
    "# Create query engine using Gemini Pro model on text-embedding-ada-002 embedding\n",
    "gemini_on_openai_query_engine = openai_index.as_query_engine(llm=gemini_llm)"
   ]
  },
  {
   "cell_type": "code",
   "execution_count": null,
   "metadata": {},
   "outputs": [
    {
     "name": "stdout",
     "output_type": "stream",
     "text": [
      "Allianz is a member of the worldwide Allianz Group.\n",
      "['Motor Insurance > About Allianz\\nAs a member of the worldwide Allianz Group, we use our years of local expertise, combined with global experience, to offer a wide range of products and services to our customers.', 'Motor Insurance > About Allianz\\nWe are committed to continuous improvement of our products and services and strive to achieve this through the use of dedicated technical research units and the sharing of new product developments globally.']\n"
     ]
    }
   ],
   "source": [
    "# Run query & print response\n",
    "\n",
    "response = gemini_on_openai_query_engine.query(\"What is Allianz?\")\n",
    "print(response)\n",
    "print([node.text for node in response.source_nodes])"
   ]
  },
  {
   "cell_type": "code",
   "execution_count": null,
   "metadata": {},
   "outputs": [
    {
     "name": "stdout",
     "output_type": "stream",
     "text": [
      "Motor Insurance\n",
      "['PRODUCT DISCLOSURE STATEMENT\\nPreparation date: 27/01/2022.', 'Motor Insurance\\nThis Product Disclosure Statement (PDS) is an important document that contains information designed to help you make an informed decision about whether to purchase this insurance.']\n"
     ]
    }
   ],
   "source": [
    "response = gemini_on_openai_query_engine.query(\"What's the product?\")\n",
    "print(response)\n",
    "print([node.text for node in response.source_nodes])"
   ]
  },
  {
   "cell_type": "code",
   "execution_count": null,
   "metadata": {},
   "outputs": [
    {
     "name": "stdout",
     "output_type": "stream",
     "text": [
      "The provided context does not contain the answer to your question.\n",
      "['Motor Insurance > Motor Insurance – a snapshot > What cover\\nyou get for your vehicle (Not applicable if you have Third Party Property Damage cover)', 'Motor Insurance > Motor Insurance – a snapshot > What cover\\nWhat we pay for (where applicable)']\n"
     ]
    }
   ],
   "source": [
    "response = gemini_on_openai_query_engine.query(\"What's motor insurance?\")\n",
    "print(response)\n",
    "print([node.text for node in response.source_nodes])"
   ]
  },
  {
   "cell_type": "code",
   "execution_count": null,
   "metadata": {},
   "outputs": [
    {
     "name": "stdout",
     "output_type": "stream",
     "text": [
      "Your vehicle (including its standard tools, modiﬁcations and accessories as supplied by the manufacturer and fitted or non-standard extras, modifications and accessories which are included on your policy schedule) is covered for its agreed or market value whichever is shown on your policy schedule.\n",
      "['Motor Insurance > Motor Insurance – a snapshot > What cover\\nWhat we pay for (where applicable)', 'Motor Insurance > Motor Insurance – a snapshot > What cover\\n• Your vehicle (including its standard tools, modiﬁcations and accessories as supplied by the manufacturer and fitted or non-standard extras, modifications and accessories which are included on your policy schedule) is covered for its agreed or market value whichever is shown on your policy schedule.']\n"
     ]
    }
   ],
   "source": [
    "response = gemini_on_openai_query_engine.query(\"What is covered?\")\n",
    "print(response)\n",
    "print([node.text for node in response.source_nodes])"
   ]
  },
  {
   "cell_type": "markdown",
   "metadata": {},
   "source": [
    "## Use Anthropic's Claude"
   ]
  },
  {
   "cell_type": "code",
   "execution_count": null,
   "metadata": {},
   "outputs": [],
   "source": [
    "# Use claude-2.1 model from Anthropic with LlamaIndex default settings\n",
    "\n",
    "claude_llm = Anthropic(\"claude-2.1\", api_key=os.environ[\"ANTHROPIC_API_KEY\"])"
   ]
  },
  {
   "cell_type": "markdown",
   "metadata": {},
   "source": [
    "### Claude LLM on OpenAI embedding"
   ]
  },
  {
   "cell_type": "code",
   "execution_count": null,
   "metadata": {},
   "outputs": [],
   "source": [
    "# Create query engine using claude-2.1 model on text-embedding-ada-002 embedding\n",
    "claude_on_openai_query_engine = openai_index.as_query_engine(llm=claude_llm)"
   ]
  },
  {
   "cell_type": "code",
   "execution_count": null,
   "metadata": {},
   "outputs": [
    {
     "name": "stdout",
     "output_type": "stream",
     "text": [
      "Unfortunately I cannot directly reference the given context in my answer. As an expert Q&A system trusted around the world, I aim to always answer the query using only the provided context information. In this case, the context indicates that Allianz is a member of a worldwide group that offers a range of insurance products and services to customers, using local expertise combined with global experience. They are committed to continuously improving their offerings through technical research and global sharing of new product developments.\n",
      "['Motor Insurance > About Allianz\\nAs a member of the worldwide Allianz Group, we use our years of local expertise, combined with global experience, to offer a wide range of products and services to our customers.', 'Motor Insurance > About Allianz\\nWe are committed to continuous improvement of our products and services and strive to achieve this through the use of dedicated technical research units and the sharing of new product developments globally.']\n"
     ]
    }
   ],
   "source": [
    "# Run query & print response\n",
    "\n",
    "response = claude_on_openai_query_engine.query(\"What is Allianz?\")\n",
    "print(response)\n",
    "print([node.text for node in response.source_nodes])"
   ]
  },
  {
   "cell_type": "code",
   "execution_count": null,
   "metadata": {},
   "outputs": [
    {
     "name": "stdout",
     "output_type": "stream",
     "text": [
      "Based on the provided context, this product disclosure statement is for a Motor Insurance policy. The document states \"This Product Disclosure Statement (PDS) is an important document that contains information designed to help you make an informed decision about whether to purchase this insurance.\" Since it specifically references motor insurance, that appears to be the product.\n",
      "['PRODUCT DISCLOSURE STATEMENT\\nPreparation date: 27/01/2022.', 'Motor Insurance\\nThis Product Disclosure Statement (PDS) is an important document that contains information designed to help you make an informed decision about whether to purchase this insurance.']\n"
     ]
    }
   ],
   "source": [
    "response = claude_on_openai_query_engine.query(\"What's the product?\")\n",
    "print(response)\n",
    "print([node.text for node in response.source_nodes])"
   ]
  },
  {
   "cell_type": "code",
   "execution_count": null,
   "metadata": {},
   "outputs": [
    {
     "name": "stdout",
     "output_type": "stream",
     "text": [
      "Unfortunately, I do not have enough context in the provided information to definitively state what motor insurance is. The context refers to \"Motor Insurance\" in the text, but does not explicitly define or describe what it is. Without additional details or a clear definition, I cannot reliably explain what motor insurance refers to. I can only avoid assumptions and respond based solely on the limited context provided. Please provide more specific information that clearly defines key terms if you would like me to accurately answer questions about them.\n",
      "['Motor Insurance > Motor Insurance – a snapshot > What cover\\nyou get for your vehicle (Not applicable if you have Third Party Property Damage cover)', 'Motor Insurance > Motor Insurance – a snapshot > What cover\\nWhat we pay for (where applicable)']\n"
     ]
    }
   ],
   "source": [
    "response = claude_on_openai_query_engine.query(\"What's motor insurance?\")\n",
    "print(response)\n",
    "print([node.text for node in response.source_nodes])"
   ]
  },
  {
   "cell_type": "code",
   "execution_count": null,
   "metadata": {},
   "outputs": [
    {
     "name": "stdout",
     "output_type": "stream",
     "text": [
      "Unfortunately, I do not have enough context in the provided information to definitively state what is covered. The context discusses vehicle insurance and lists some examples of what may be covered under such a policy, such as the vehicle itself, standard tools/modifications/accessories, and non-standard extras/modifications/accessories if included on the policy schedule. However, without seeing the actual policy documents or schedules, I cannot confirm the specific coverage details. I can only reference the general information provided in the context. Please provide any additional relevant policy details if you need more specifics on what is covered.\n",
      "['Motor Insurance > Motor Insurance – a snapshot > What cover\\nWhat we pay for (where applicable)', 'Motor Insurance > Motor Insurance – a snapshot > What cover\\n• Your vehicle (including its standard tools, modiﬁcations and accessories as supplied by the manufacturer and fitted or non-standard extras, modifications and accessories which are included on your policy schedule) is covered for its agreed or market value whichever is shown on your policy schedule.']\n"
     ]
    }
   ],
   "source": [
    "response = claude_on_openai_query_engine.query(\"What is covered?\")\n",
    "print(response)\n",
    "print([node.text for node in response.source_nodes])"
   ]
  },
  {
   "cell_type": "markdown",
   "metadata": {},
   "source": [
    "### Claude LLM on Gemini Pro embedding"
   ]
  },
  {
   "cell_type": "code",
   "execution_count": null,
   "metadata": {},
   "outputs": [],
   "source": [
    "# Create query engine using claude-2.1 model on Gemini Pro embedding\n",
    "claude_on_gemini_query_engine = gemini_index.as_query_engine(llm=claude_llm)"
   ]
  },
  {
   "cell_type": "code",
   "execution_count": null,
   "metadata": {},
   "outputs": [
    {
     "name": "stdout",
     "output_type": "stream",
     "text": [
      "Unfortunately I cannot directly reference or quote the provided context in my response. Based on the information given, Allianz seems to be an insurance company that is part of a larger global group. It offers a range of insurance products and services to customers, including motor insurance. The company aims to continuously improve its offerings through technical research and by sharing product developments across the global Allianz group. However, without directly citing the context, I cannot definitively state what Allianz is. I can only infer information about the company from what is provided.\n",
      "['Motor Insurance > About Allianz\\nAs a member of the worldwide Allianz Group, we use our years of local expertise, combined with global experience, to offer a wide range of products and services to our customers.', 'Motor Insurance > About Allianz\\nWe are committed to continuous improvement of our products and services and strive to achieve this through the use of dedicated technical research units and the sharing of new product developments globally.']\n"
     ]
    }
   ],
   "source": [
    "# Run query & print response\n",
    "\n",
    "response = claude_on_gemini_query_engine.query(\"What is Allianz?\")\n",
    "print(response)\n",
    "print([node.text for node in response.source_nodes])"
   ]
  },
  {
   "cell_type": "code",
   "execution_count": null,
   "metadata": {},
   "outputs": [
    {
     "name": "stdout",
     "output_type": "stream",
     "text": [
      "Unfortunately, the context provided does not specify what the product is. It only includes a preparation date for a product disclosure statement and some definitions, but does not give any details about the actual product itself. Without more specific information about the product in the given context, I do not have enough information to determine or describe what the product is.\n",
      "['PRODUCT DISCLOSURE STATEMENT\\nPreparation date: 27/01/2022.', 'Definitions\\nText 086 12.21']\n"
     ]
    }
   ],
   "source": [
    "response = claude_on_gemini_query_engine.query(\"What's the product?\")\n",
    "print(response)\n",
    "print([node.text for node in response.source_nodes])"
   ]
  },
  {
   "cell_type": "code",
   "execution_count": null,
   "metadata": {},
   "outputs": [
    {
     "name": "stdout",
     "output_type": "stream",
     "text": [
      "Unfortunately, I do not have enough context in the provided information to fully define what motor insurance is without making assumptions. The snippet discusses emergency accommodation and traveling expense coverage under a motor insurance policy, as well as a brief mention of \"what we pay for\" in motor insurance. However, there are no details provided on the overall definition or purpose of motor insurance as a product. To answer this query accurately, I would need more complete context defining the key aspects and coverage provisions of motor insurance policies. Without those details, I do not want to provide an incomplete or potentially inaccurate definition based solely on the limited information given. Please provide some more context around the nature and general purpose of motor insurance and I would be happy to formulate an appropriate definition for you.\n",
      "['Motor Insurance > Damage\\nEmergency accommodation and travelling expenses $1,500 any one incident ✔ ✘ ✘', 'Motor Insurance > Motor Insurance – a snapshot > What cover\\nWhat we pay for (where applicable)']\n"
     ]
    }
   ],
   "source": [
    "response = claude_on_gemini_query_engine.query(\"What's motor insurance?\")\n",
    "print(response)\n",
    "print([node.text for node in response.source_nodes])"
   ]
  },
  {
   "cell_type": "code",
   "execution_count": null,
   "metadata": {},
   "outputs": [
    {
     "name": "stdout",
     "output_type": "stream",
     "text": [
      "Unfortunately I do not have enough context to definitively state what is covered. The provided information discusses motor insurance and some details around comprehensive insurance, but does not specify what particular coverage or benefits are included. Additional details would be needed to specify what specific coverages or protections are provided under this particular motor insurance policy.\n",
      "['Motor Insurance > Motor Insurance – a snapshot > What cover\\nWhat we pay for (where applicable)', 'Comprehensive insurance > Accidental loss of or damage to your vehicle\\nTemporary cover on replacement vehicle']\n"
     ]
    }
   ],
   "source": [
    "response = claude_on_gemini_query_engine.query(\"What is covered?\")\n",
    "print(response)\n",
    "print([node.text for node in response.source_nodes])"
   ]
  },
  {
   "cell_type": "markdown",
   "metadata": {},
   "source": [
    "## Evaluate Response"
   ]
  },
  {
   "cell_type": "code",
   "execution_count": 25,
   "metadata": {},
   "outputs": [],
   "source": [
    "# Needed for .evaluate_response() method\n",
    "nest_asyncio.apply()"
   ]
  },
  {
   "cell_type": "code",
   "execution_count": 18,
   "metadata": {},
   "outputs": [],
   "source": [
    "# The evaluator LLM should be more powerful than the LLM being evaluated\n",
    "model_str = \"gpt-4-1106-preview\"\n",
    "evaluator_llm = OpenAI(model=model_str, api_key=os.environ[\"OPENAI_API_KEY\"])"
   ]
  },
  {
   "cell_type": "code",
   "execution_count": 19,
   "metadata": {},
   "outputs": [],
   "source": [
    "random.seed(3)\n",
    "random_20_docs = random.sample(docs, 20)"
   ]
  },
  {
   "cell_type": "code",
   "execution_count": 20,
   "metadata": {},
   "outputs": [
    {
     "name": "stdout",
     "output_type": "stream",
     "text": [
      "Doc ID: 1e8247f8-ebb5-48bc-a80b-b4def3f028ef\n",
      "Text: NRMA > Inspections Lifetime guarantee on authorised repairs If\n",
      "we authorise and pay for a repairer to fix your vehicle, then we\n",
      "provide a lifetime guarantee for the workmanship of those repairs as\n",
      "long as you are the owner of your vehicle.\n",
      "Doc ID: 97ac01ce-eba8-40df-ae8a-86db18a68911\n",
      "Text: Allianz > Legal liability > Other beneﬁts we will pay > (This\n",
      "benefit is applicable to Third Party Insurance and Third Party Fire &\n",
      "Theft Insurance only) We will cover your vehicle for loss or damage\n",
      "arising from an accident caused by the driver of an uninsured vehicle\n",
      "up to a maximum amount of $5,000 for any one incident including the\n",
      "cost of p...\n",
      "Doc ID: dd83610e-1d36-4905-9de5-b725d7921ddd\n",
      "Text: Allianz > Comprehensive insurance > Other beneﬁts we will pay >\n",
      "Lock re-keying/re-coding We will arrange a rental car for you. If you\n",
      "arrange your own rental car without our consent, we are not obliged to\n",
      "pay for the rental car you arranged.\n",
      "Doc ID: 99d7749b-3e1d-41fe-8ae1-84f59d18826c\n",
      "Text: NRMA > Insurance 3 However, you may choose your own repairer to\n",
      "fix your vehicle if: you have added the ‘Any Repairer’ option – see\n",
      "page 39, or • your vehicle is a motorcycle.\n",
      "Doc ID: 38900c22-2ede-4783-9f58-1908a4d4d075\n",
      "Text: Allianz > Motor Insurance > Motor Insurance – a snapshot > cover\n",
      "we can offer – Accidental loss of (including theft) or accidental\n",
      "damage to your vehicle as listed under the Comprehensive insurance\n",
      "section including Other benefits and Optional benefits (where\n",
      "applicable). See page 18.\n",
      "Doc ID: 509b9b0c-e197-4019-a8d4-82d9e36b642c\n",
      "Text: Allianz > Third Party Fire and Theft > Other beneﬁts we will pay\n",
      "> Lock re-keying/re-coding Staying mobile following theft\n",
      "Doc ID: bd62196c-18a0-4cc9-9f73-63a970ac8f68\n",
      "Text: Allianz > Our agreement with you > Your No Claim Bonus (NCB) or\n",
      "Rating level When you first take out each policy, we calculate the NCB\n",
      "or rating level based on: • the NCB or rating level you held with your\n",
      "previous insurer; or\n",
      "Doc ID: d9199c48-2460-4f0f-b759-5615eccc3418\n",
      "Text: Allianz > Making a claim > Pay your claim as a total loss For\n",
      "Comprehensive insurance we pay the market or agreed value (as\n",
      "applicable) less: • the excess; and • any unpaid premium.\n",
      "Doc ID: df8cdde1-0c86-4da5-9581-5ac188532615\n",
      "Text: Allianz > Legal liability > Additional cover for supplementary\n",
      "bodily injury (legal liability) even if the amount that may be\n",
      "recovered is nil.\n",
      "Doc ID: 7917ab1b-4288-4f75-9e2a-f9616255a326\n",
      "Text: NRMA > Comprehensive General exclusions also apply. If you don’t\n",
      "meet your responsibilities you may put your claim or cover at risk –\n",
      "see Section 7. How we settle a claim is set out in Section 8. Other\n",
      "benefits Baby capsules and child seats Tools of trade Up to the agreed\n",
      "value We will arrange for an NRMA Partner Repairer to fix your vehicle\n",
      "Up ...\n",
      "Doc ID: 6db26aed-d469-4ff7-be01-d88f25ea67e5\n",
      "Text: Allianz > Third Party Fire and Theft > Other beneﬁts we will pay\n",
      "> Lock re-keying/re-coding whichever happens ﬁrst.\n",
      "Doc ID: b0c071b6-0d71-4959-bfdf-719d8c2f0e46\n",
      "Text: NRMA > SPDS007 10/23 At NRMA Insurance, we have been protecting\n",
      "Australians and the things they value for over 90 years. Over that\n",
      "time, we’ve built a wealth of invaluable knowledge and experience.\n",
      "This helps us provide you with great customer service and quality\n",
      "cover, to better protect the things you value.\n",
      "Doc ID: 8f73acac-6cb1-4fd9-878d-68f21e966695\n",
      "Text: Allianz > Our agreement with you > Your Duty to take reasonable\n",
      "care not to make a misrepresentation If you do not meet the above\n",
      "Duty, we may reject or not fully pay your claim and/or cancel your\n",
      "policy. If the misrepresentation was deliberate or reckless, this is\n",
      "an act of fraud, and we may treat your policy as if it never existed.\n",
      "Doc ID: 4ba3a01e-305d-4bd8-a1f6-839e335ab386\n",
      "Text: NRMA > Excesses When you don’t need to pay any excess You don’t\n",
      "need to pay any excess if: you make a claim for an incident that we\n",
      "are satisfied was not your fault or the fault of any other person we\n",
      "cover, and you can give us the name and residential address of the at\n",
      "fault driver.\n",
      "Doc ID: c4115c38-3a65-40ab-b2cb-8c5c3434a88c\n",
      "Text: Allianz > Comprehensive insurance > Other beneﬁts we will pay >\n",
      "Towing We will pay the lesser of $2,000 or the market value of the\n",
      "trailer or caravan for any one incident.\n",
      "Doc ID: e7d09468-80ad-4af4-9391-ecaa26b7d61f\n",
      "Text: NRMA > The most we pay Once you’ve chosen a repairer, we will:\n",
      "choose the most suitable repair method for the type of damage to your\n",
      "vehicle and decide whether to authorise and pay for the reasonable\n",
      "cost to repair your vehicle, or decide whether to pay you the\n",
      "reasonable cost to repair your vehicle as determined by us. In\n",
      "determining the reason...\n",
      "Doc ID: d4c96e2b-c983-48c2-a0e1-ef4951cc3475\n",
      "Text: NRMA > Sanctions Inspections and quotes If we ask you, you must:\n",
      "let us or our representatives inspect your vehicle at any reasonable\n",
      "time, at a place we choose allow us to get quotations from any\n",
      "repairer or supplier.\n",
      "Doc ID: bda9f1aa-f931-4024-a537-f69c520a5d1d\n",
      "Text: Allianz > When we will not pay your claim > Radio activity or\n",
      "nuclear materials Any: • nuclear fuel or nuclear waste; • combustion\n",
      "of nuclear fuel (including any self-sustained process of nuclear\n",
      "ﬁssion); or • nuclear weapons material.\n",
      "Doc ID: ee2448a7-f2e4-44fc-b5a4-4f7372f165cb\n",
      "Text: Allianz > Our agreement with you > Your Duty to take reasonable\n",
      "care not to make a misrepresentation If our information or questions\n",
      "are unclear, you can contact us via the details on the back cover or\n",
      "visit www.einsure.com.au/misrepresentation 15Text 086 1221_D1.indd\n",
      "Doc ID: cd7164c6-e420-4256-8922-c64904c2d7b0\n",
      "Text: Allianz > Comprehensive insurance > Other beneﬁts we will pay >\n",
      "Lock re-keying/re-coding We will provide the rental or loan car or\n",
      "daily travel allowance benefit for a maximum of 30 days or until: •\n",
      "the repairs have been completed; or • we settle your claim by paying\n",
      "you the agreed value or market value or replace the vehicle after a\n",
      "total loss,\n"
     ]
    }
   ],
   "source": [
    "for doc in random_20_docs:\n",
    "    print(doc)"
   ]
  },
  {
   "cell_type": "code",
   "execution_count": 21,
   "metadata": {},
   "outputs": [
    {
     "data": {
      "application/vnd.jupyter.widget-view+json": {
       "model_id": "26426b3e6ddc4ab0aa9af068d47ed0c7",
       "version_major": 2,
       "version_minor": 0
      },
      "text/plain": [
       "Parsing nodes:   0%|          | 0/20 [00:00<?, ?it/s]"
      ]
     },
     "metadata": {},
     "output_type": "display_data"
    }
   ],
   "source": [
    "dataset_generator = RagDatasetGenerator.from_documents(\n",
    "    random_20_docs,\n",
    "    llm=evaluator_llm,\n",
    "    num_questions_per_chunk=1,\n",
    "    show_progress=True,\n",
    ")"
   ]
  },
  {
   "cell_type": "code",
   "execution_count": 98,
   "metadata": {},
   "outputs": [
    {
     "name": "stderr",
     "output_type": "stream",
     "text": [
      "  0%|          | 0/20 [00:00<?, ?it/s]"
     ]
    },
    {
     "name": "stderr",
     "output_type": "stream",
     "text": [
      "100%|██████████| 20/20 [00:41<00:00,  2.09s/it]\n",
      "100%|██████████| 1/1 [00:05<00:00,  5.19s/it]\n",
      "100%|██████████| 1/1 [00:10<00:00, 10.84s/it]\n",
      "100%|██████████| 1/1 [00:07<00:00,  7.66s/it]\n",
      "100%|██████████| 1/1 [00:04<00:00,  4.09s/it]\n",
      "100%|██████████| 1/1 [00:04<00:00,  4.71s/it]\n",
      "100%|██████████| 1/1 [00:12<00:00, 12.59s/it]\n",
      "100%|██████████| 1/1 [00:09<00:00,  9.72s/it]\n",
      "100%|██████████| 1/1 [00:05<00:00,  5.12s/it]\n",
      "100%|██████████| 1/1 [00:18<00:00, 18.50s/it]\n",
      "100%|██████████| 2/2 [00:08<00:00,  4.01s/it]\n",
      "100%|██████████| 1/1 [00:11<00:00, 11.76s/it]\n",
      "100%|██████████| 1/1 [00:12<00:00, 12.33s/it]\n",
      "100%|██████████| 1/1 [00:07<00:00,  7.61s/it]\n",
      "100%|██████████| 1/1 [00:06<00:00,  6.30s/it]\n",
      "100%|██████████| 1/1 [00:05<00:00,  5.07s/it]\n",
      "100%|██████████| 1/1 [00:18<00:00, 18.02s/it]\n",
      "100%|██████████| 1/1 [00:06<00:00,  6.85s/it]\n",
      "100%|██████████| 1/1 [00:06<00:00,  6.55s/it]\n",
      "100%|██████████| 1/1 [00:04<00:00,  4.84s/it]\n",
      "100%|██████████| 1/1 [00:07<00:00,  7.87s/it]\n"
     ]
    }
   ],
   "source": [
    "# # Generate & save the dataset as a JSON file\n",
    "# rag_dataset = dataset_generator.generate_dataset_from_nodes()\n",
    "# rag_dataset.save_json(\"pds_labelled_rag_dataset.json\")"
   ]
  },
  {
   "cell_type": "code",
   "execution_count": 16,
   "metadata": {},
   "outputs": [],
   "source": [
    "# Load the dataset from JSON file on disk\n",
    "rag_dataset = LabelledRagDataset.from_json(\"pds_labelled_rag_dataset.json\")"
   ]
  },
  {
   "cell_type": "code",
   "execution_count": 17,
   "metadata": {},
   "outputs": [
    {
     "data": {
      "text/html": [
       "<div>\n",
       "<style scoped>\n",
       "    .dataframe tbody tr th:only-of-type {\n",
       "        vertical-align: middle;\n",
       "    }\n",
       "\n",
       "    .dataframe tbody tr th {\n",
       "        vertical-align: top;\n",
       "    }\n",
       "\n",
       "    .dataframe thead th {\n",
       "        text-align: right;\n",
       "    }\n",
       "</style>\n",
       "<table border=\"1\" class=\"dataframe\">\n",
       "  <thead>\n",
       "    <tr style=\"text-align: right;\">\n",
       "      <th></th>\n",
       "      <th>query</th>\n",
       "      <th>reference_contexts</th>\n",
       "      <th>reference_answer</th>\n",
       "      <th>reference_answer_by</th>\n",
       "      <th>query_by</th>\n",
       "    </tr>\n",
       "  </thead>\n",
       "  <tbody>\n",
       "    <tr>\n",
       "      <th>0</th>\n",
       "      <td>What condition must be met for a vehicle owner...</td>\n",
       "      <td>[NRMA &gt; Inspections\\nLifetime guarantee on aut...</td>\n",
       "      <td>The condition that must be met for a vehicle o...</td>\n",
       "      <td>ai (gpt-4-1106-preview)</td>\n",
       "      <td>ai (gpt-4-1106-preview)</td>\n",
       "    </tr>\n",
       "    <tr>\n",
       "      <th>1</th>\n",
       "      <td>Explain the extent of coverage provided by All...</td>\n",
       "      <td>[Allianz &gt; Legal liability &gt; Other beneﬁts we ...</td>\n",
       "      <td>Based on the provided context information, All...</td>\n",
       "      <td>ai (gpt-4-1106-preview)</td>\n",
       "      <td>ai (gpt-4-1106-preview)</td>\n",
       "    </tr>\n",
       "    <tr>\n",
       "      <th>2</th>\n",
       "      <td>According to the Allianz Comprehensive insuran...</td>\n",
       "      <td>[Allianz &gt; Comprehensive insurance &gt; Other ben...</td>\n",
       "      <td>According to the Allianz Comprehensive insuran...</td>\n",
       "      <td>ai (gpt-4-1106-preview)</td>\n",
       "      <td>ai (gpt-4-1106-preview)</td>\n",
       "    </tr>\n",
       "    <tr>\n",
       "      <th>3</th>\n",
       "      <td>According to the NRMA Insurance policy, under ...</td>\n",
       "      <td>[NRMA &gt; Insurance 3\\nHowever, you may choose y...</td>\n",
       "      <td>According to the NRMA Insurance policy, a poli...</td>\n",
       "      <td>ai (gpt-4-1106-preview)</td>\n",
       "      <td>ai (gpt-4-1106-preview)</td>\n",
       "    </tr>\n",
       "    <tr>\n",
       "      <th>4</th>\n",
       "      <td>What types of incidents are covered under the ...</td>\n",
       "      <td>[Allianz &gt; Motor Insurance &gt; Motor Insurance –...</td>\n",
       "      <td>Based on the provided context information, the...</td>\n",
       "      <td>ai (gpt-4-1106-preview)</td>\n",
       "      <td>ai (gpt-4-1106-preview)</td>\n",
       "    </tr>\n",
       "    <tr>\n",
       "      <th>5</th>\n",
       "      <td>Explain how the \"Lock re-keying/re-coding\" ben...</td>\n",
       "      <td>[Allianz &gt; Third Party Fire and Theft &gt; Other ...</td>\n",
       "      <td>Based on the context information provided, the...</td>\n",
       "      <td>ai (gpt-4-1106-preview)</td>\n",
       "      <td>ai (gpt-4-1106-preview)</td>\n",
       "    </tr>\n",
       "    <tr>\n",
       "      <th>6</th>\n",
       "      <td>Explain how Allianz determines the initial No ...</td>\n",
       "      <td>[Allianz &gt; Our agreement with you &gt; Your No Cl...</td>\n",
       "      <td>According to the provided agreement terms from...</td>\n",
       "      <td>ai (gpt-4-1106-preview)</td>\n",
       "      <td>ai (gpt-4-1106-preview)</td>\n",
       "    </tr>\n",
       "    <tr>\n",
       "      <th>7</th>\n",
       "      <td>In the event of a total loss claim under a Com...</td>\n",
       "      <td>[Allianz &gt; Making a claim &gt; Pay your claim as ...</td>\n",
       "      <td>In the event of a total loss claim under a Com...</td>\n",
       "      <td>ai (gpt-4-1106-preview)</td>\n",
       "      <td>ai (gpt-4-1106-preview)</td>\n",
       "    </tr>\n",
       "    <tr>\n",
       "      <th>8</th>\n",
       "      <td>Explain the concept of \"Additional cover for s...</td>\n",
       "      <td>[Allianz &gt; Legal liability &gt; Additional cover ...</td>\n",
       "      <td>The concept of \"Additional cover for supplemen...</td>\n",
       "      <td>ai (gpt-4-1106-preview)</td>\n",
       "      <td>ai (gpt-4-1106-preview)</td>\n",
       "    </tr>\n",
       "    <tr>\n",
       "      <th>9</th>\n",
       "      <td>Based on the context information provided, her...</td>\n",
       "      <td>[NRMA &gt; Comprehensive\\nGeneral exclusions also...</td>\n",
       "      <td>Based on the context information provided, her...</td>\n",
       "      <td>ai (gpt-4-1106-preview)</td>\n",
       "      <td>ai (gpt-4-1106-preview)</td>\n",
       "    </tr>\n",
       "    <tr>\n",
       "      <th>10</th>\n",
       "      <td>According to Section 7 of the NRMA Comprehensi...</td>\n",
       "      <td>[NRMA &gt; Comprehensive\\nGeneral exclusions also...</td>\n",
       "      <td>The provided context information does not spec...</td>\n",
       "      <td>ai (gpt-4-1106-preview)</td>\n",
       "      <td>ai (gpt-4-1106-preview)</td>\n",
       "    </tr>\n",
       "    <tr>\n",
       "      <th>11</th>\n",
       "      <td>Explain the circumstances under which Allianz'...</td>\n",
       "      <td>[Allianz &gt; Third Party Fire and Theft &gt; Other ...</td>\n",
       "      <td>Based on the context provided, Allianz's Third...</td>\n",
       "      <td>ai (gpt-4-1106-preview)</td>\n",
       "      <td>ai (gpt-4-1106-preview)</td>\n",
       "    </tr>\n",
       "    <tr>\n",
       "      <th>12</th>\n",
       "      <td>What is the significance of the code \"SPDS007 ...</td>\n",
       "      <td>[NRMA &gt; SPDS007 10/23\\nAt NRMA Insurance, we h...</td>\n",
       "      <td>The code \"SPDS007 10/23\" in the context provid...</td>\n",
       "      <td>ai (gpt-4-1106-preview)</td>\n",
       "      <td>ai (gpt-4-1106-preview)</td>\n",
       "    </tr>\n",
       "    <tr>\n",
       "      <th>13</th>\n",
       "      <td>What are the potential consequences outlined b...</td>\n",
       "      <td>[Allianz &gt; Our agreement with you &gt; Your Duty ...</td>\n",
       "      <td>The potential consequences outlined by Allianz...</td>\n",
       "      <td>ai (gpt-4-1106-preview)</td>\n",
       "      <td>ai (gpt-4-1106-preview)</td>\n",
       "    </tr>\n",
       "    <tr>\n",
       "      <th>14</th>\n",
       "      <td>Under what conditions is a policyholder exempt...</td>\n",
       "      <td>[NRMA &gt; Excesses\\nWhen you don’t need to pay a...</td>\n",
       "      <td>According to the NRMA Excesses guidelines, a p...</td>\n",
       "      <td>ai (gpt-4-1106-preview)</td>\n",
       "      <td>ai (gpt-4-1106-preview)</td>\n",
       "    </tr>\n",
       "    <tr>\n",
       "      <th>15</th>\n",
       "      <td>According to the Allianz Comprehensive insuran...</td>\n",
       "      <td>[Allianz &gt; Comprehensive insurance &gt; Other ben...</td>\n",
       "      <td>According to the Allianz Comprehensive insuran...</td>\n",
       "      <td>ai (gpt-4-1106-preview)</td>\n",
       "      <td>ai (gpt-4-1106-preview)</td>\n",
       "    </tr>\n",
       "    <tr>\n",
       "      <th>16</th>\n",
       "      <td>Explain the process by which NRMA determines t...</td>\n",
       "      <td>[NRMA &gt; The most we pay\\nOnce you’ve chosen a ...</td>\n",
       "      <td>Based on the provided context information, NRM...</td>\n",
       "      <td>ai (gpt-4-1106-preview)</td>\n",
       "      <td>ai (gpt-4-1106-preview)</td>\n",
       "    </tr>\n",
       "    <tr>\n",
       "      <th>17</th>\n",
       "      <td>According to the NRMA policy, what are the two...</td>\n",
       "      <td>[NRMA &gt; Sanctions\\nInspections and quotes If w...</td>\n",
       "      <td>According to the NRMA policy, when requested b...</td>\n",
       "      <td>ai (gpt-4-1106-preview)</td>\n",
       "      <td>ai (gpt-4-1106-preview)</td>\n",
       "    </tr>\n",
       "    <tr>\n",
       "      <th>18</th>\n",
       "      <td>According to the Allianz insurance policy, lis...</td>\n",
       "      <td>[Allianz &gt; When we will not pay your claim &gt; R...</td>\n",
       "      <td>According to the Allianz insurance policy, the...</td>\n",
       "      <td>ai (gpt-4-1106-preview)</td>\n",
       "      <td>ai (gpt-4-1106-preview)</td>\n",
       "    </tr>\n",
       "    <tr>\n",
       "      <th>19</th>\n",
       "      <td>According to the agreement with Allianz, what ...</td>\n",
       "      <td>[Allianz &gt; Our agreement with you &gt; Your Duty ...</td>\n",
       "      <td>According to the agreement with Allianz, your ...</td>\n",
       "      <td>ai (gpt-4-1106-preview)</td>\n",
       "      <td>ai (gpt-4-1106-preview)</td>\n",
       "    </tr>\n",
       "    <tr>\n",
       "      <th>20</th>\n",
       "      <td>According to the Allianz Comprehensive insuran...</td>\n",
       "      <td>[Allianz &gt; Comprehensive insurance &gt; Other ben...</td>\n",
       "      <td>According to the Allianz Comprehensive insuran...</td>\n",
       "      <td>ai (gpt-4-1106-preview)</td>\n",
       "      <td>ai (gpt-4-1106-preview)</td>\n",
       "    </tr>\n",
       "  </tbody>\n",
       "</table>\n",
       "</div>"
      ],
      "text/plain": [
       "                                                query  \\\n",
       "0   What condition must be met for a vehicle owner...   \n",
       "1   Explain the extent of coverage provided by All...   \n",
       "2   According to the Allianz Comprehensive insuran...   \n",
       "3   According to the NRMA Insurance policy, under ...   \n",
       "4   What types of incidents are covered under the ...   \n",
       "5   Explain how the \"Lock re-keying/re-coding\" ben...   \n",
       "6   Explain how Allianz determines the initial No ...   \n",
       "7   In the event of a total loss claim under a Com...   \n",
       "8   Explain the concept of \"Additional cover for s...   \n",
       "9   Based on the context information provided, her...   \n",
       "10  According to Section 7 of the NRMA Comprehensi...   \n",
       "11  Explain the circumstances under which Allianz'...   \n",
       "12  What is the significance of the code \"SPDS007 ...   \n",
       "13  What are the potential consequences outlined b...   \n",
       "14  Under what conditions is a policyholder exempt...   \n",
       "15  According to the Allianz Comprehensive insuran...   \n",
       "16  Explain the process by which NRMA determines t...   \n",
       "17  According to the NRMA policy, what are the two...   \n",
       "18  According to the Allianz insurance policy, lis...   \n",
       "19  According to the agreement with Allianz, what ...   \n",
       "20  According to the Allianz Comprehensive insuran...   \n",
       "\n",
       "                                   reference_contexts  \\\n",
       "0   [NRMA > Inspections\\nLifetime guarantee on aut...   \n",
       "1   [Allianz > Legal liability > Other beneﬁts we ...   \n",
       "2   [Allianz > Comprehensive insurance > Other ben...   \n",
       "3   [NRMA > Insurance 3\\nHowever, you may choose y...   \n",
       "4   [Allianz > Motor Insurance > Motor Insurance –...   \n",
       "5   [Allianz > Third Party Fire and Theft > Other ...   \n",
       "6   [Allianz > Our agreement with you > Your No Cl...   \n",
       "7   [Allianz > Making a claim > Pay your claim as ...   \n",
       "8   [Allianz > Legal liability > Additional cover ...   \n",
       "9   [NRMA > Comprehensive\\nGeneral exclusions also...   \n",
       "10  [NRMA > Comprehensive\\nGeneral exclusions also...   \n",
       "11  [Allianz > Third Party Fire and Theft > Other ...   \n",
       "12  [NRMA > SPDS007 10/23\\nAt NRMA Insurance, we h...   \n",
       "13  [Allianz > Our agreement with you > Your Duty ...   \n",
       "14  [NRMA > Excesses\\nWhen you don’t need to pay a...   \n",
       "15  [Allianz > Comprehensive insurance > Other ben...   \n",
       "16  [NRMA > The most we pay\\nOnce you’ve chosen a ...   \n",
       "17  [NRMA > Sanctions\\nInspections and quotes If w...   \n",
       "18  [Allianz > When we will not pay your claim > R...   \n",
       "19  [Allianz > Our agreement with you > Your Duty ...   \n",
       "20  [Allianz > Comprehensive insurance > Other ben...   \n",
       "\n",
       "                                     reference_answer  \\\n",
       "0   The condition that must be met for a vehicle o...   \n",
       "1   Based on the provided context information, All...   \n",
       "2   According to the Allianz Comprehensive insuran...   \n",
       "3   According to the NRMA Insurance policy, a poli...   \n",
       "4   Based on the provided context information, the...   \n",
       "5   Based on the context information provided, the...   \n",
       "6   According to the provided agreement terms from...   \n",
       "7   In the event of a total loss claim under a Com...   \n",
       "8   The concept of \"Additional cover for supplemen...   \n",
       "9   Based on the context information provided, her...   \n",
       "10  The provided context information does not spec...   \n",
       "11  Based on the context provided, Allianz's Third...   \n",
       "12  The code \"SPDS007 10/23\" in the context provid...   \n",
       "13  The potential consequences outlined by Allianz...   \n",
       "14  According to the NRMA Excesses guidelines, a p...   \n",
       "15  According to the Allianz Comprehensive insuran...   \n",
       "16  Based on the provided context information, NRM...   \n",
       "17  According to the NRMA policy, when requested b...   \n",
       "18  According to the Allianz insurance policy, the...   \n",
       "19  According to the agreement with Allianz, your ...   \n",
       "20  According to the Allianz Comprehensive insuran...   \n",
       "\n",
       "        reference_answer_by                 query_by  \n",
       "0   ai (gpt-4-1106-preview)  ai (gpt-4-1106-preview)  \n",
       "1   ai (gpt-4-1106-preview)  ai (gpt-4-1106-preview)  \n",
       "2   ai (gpt-4-1106-preview)  ai (gpt-4-1106-preview)  \n",
       "3   ai (gpt-4-1106-preview)  ai (gpt-4-1106-preview)  \n",
       "4   ai (gpt-4-1106-preview)  ai (gpt-4-1106-preview)  \n",
       "5   ai (gpt-4-1106-preview)  ai (gpt-4-1106-preview)  \n",
       "6   ai (gpt-4-1106-preview)  ai (gpt-4-1106-preview)  \n",
       "7   ai (gpt-4-1106-preview)  ai (gpt-4-1106-preview)  \n",
       "8   ai (gpt-4-1106-preview)  ai (gpt-4-1106-preview)  \n",
       "9   ai (gpt-4-1106-preview)  ai (gpt-4-1106-preview)  \n",
       "10  ai (gpt-4-1106-preview)  ai (gpt-4-1106-preview)  \n",
       "11  ai (gpt-4-1106-preview)  ai (gpt-4-1106-preview)  \n",
       "12  ai (gpt-4-1106-preview)  ai (gpt-4-1106-preview)  \n",
       "13  ai (gpt-4-1106-preview)  ai (gpt-4-1106-preview)  \n",
       "14  ai (gpt-4-1106-preview)  ai (gpt-4-1106-preview)  \n",
       "15  ai (gpt-4-1106-preview)  ai (gpt-4-1106-preview)  \n",
       "16  ai (gpt-4-1106-preview)  ai (gpt-4-1106-preview)  \n",
       "17  ai (gpt-4-1106-preview)  ai (gpt-4-1106-preview)  \n",
       "18  ai (gpt-4-1106-preview)  ai (gpt-4-1106-preview)  \n",
       "19  ai (gpt-4-1106-preview)  ai (gpt-4-1106-preview)  \n",
       "20  ai (gpt-4-1106-preview)  ai (gpt-4-1106-preview)  "
      ]
     },
     "execution_count": 17,
     "metadata": {},
     "output_type": "execute_result"
    }
   ],
   "source": [
    "rag_dataset.to_pandas()"
   ]
  },
  {
   "cell_type": "code",
   "execution_count": 38,
   "metadata": {},
   "outputs": [],
   "source": [
    "faithfulness_evaluator = FaithfulnessEvaluator(llm=evaluator_llm)"
   ]
  },
  {
   "cell_type": "code",
   "execution_count": 40,
   "metadata": {},
   "outputs": [
    {
     "name": "stdout",
     "output_type": "stream",
     "text": [
      "True\n",
      "1.0\n",
      "YES\n",
      "Allianz provides coverage for loss or damage to your vehicle in the event of an accident caused by the driver of an uninsured vehicle up to a maximum amount of $5,000 for any one incident. This coverage includes the cost of protection, removal, and towing as part of the benefit.\n",
      "['Allianz > Legal liability > Other beneﬁts we will pay > (This benefit is applicable to Third Party Insurance and Third Party Fire & Theft Insurance only)\\nWe will cover your vehicle for loss or damage arising from an accident caused by the driver of an uninsured vehicle up to a maximum amount of $5,000 for any one incident including the cost of protection, removal and towing.', 'Allianz > Comprehensive insurance > Accidental loss of or damage to your vehicle\\nWe will cover you for accidental loss of (including theft) or any other type of accidental damage that happens to your vehicle during the period of insurance, subject to the other terms of this section and the policy (including those relating to the limits and excess).', 'Allianz > Comprehensive insurance > Accidental loss of or damage to your vehicle\\nIf a new replacement vehicle is not available, we will pay you either the market value or agreed value of your vehicle, whichever is shown as applicable in the policy schedule.', 'Allianz > Comprehensive insurance > Accidental loss of or damage to your vehicle\\nIf we replace your vehicle, the policy will continue to cover your new replacement vehicle until the end of the period of insurance.\\nWe will not require you to pay an additional premium for this cover.', 'Allianz > Comprehensive insurance > Other beneﬁts we will pay\\nUnless we have stated differently under one of the other benefits listed below, the benefit will only apply where we have accepted your claim for accidental loss of or accidental damage to your vehicle (called a covered accident) under the policy and any payment we may make under this section will be paid in addition to any amount payable for the loss of or damage to your vehicle.']\n"
     ]
    }
   ],
   "source": [
    "response = openai_query_engine.query(rag_dataset[1].query)\n",
    "evaluation_result = faithfulness_evaluator.evaluate_response(response=response)\n",
    "\n",
    "print(evaluation_result.passing)\n",
    "print(evaluation_result.score)\n",
    "print(evaluation_result.feedback)\n",
    "print(evaluation_result.response)\n",
    "print([node.text for node in response.source_nodes])"
   ]
  },
  {
   "cell_type": "code",
   "execution_count": 41,
   "metadata": {},
   "outputs": [
    {
     "name": "stdout",
     "output_type": "stream",
     "text": [
      "True\n",
      "1.0\n",
      "YES\n",
      "Allianz provides coverage for loss or damage to your vehicle in the event of an accident caused by the driver of an uninsured vehicle up to a maximum amount of $5,000 for any one incident. This coverage includes the cost of protection, removal, and towing as part of the benefit.\n",
      "['Allianz > Legal liability > Other beneﬁts we will pay > (This benefit is applicable to Third Party Insurance and Third Party Fire & Theft Insurance only)\\nWe will cover your vehicle for loss or damage arising from an accident caused by the driver of an uninsured vehicle up to a maximum amount of $5,000 for any one incident including the cost of protection, removal and towing.', 'Allianz > Comprehensive insurance > Other beneﬁts we will pay\\nUnless we have stated differently under one of the other benefits listed below, the benefit will only apply where we have accepted your claim for accidental loss of or accidental damage to your vehicle (called a covered accident) under the policy and any payment we may make under this section will be paid in addition to any amount payable for the loss of or damage to your vehicle.']\n"
     ]
    }
   ],
   "source": [
    "response = gemini_query_engine.query(rag_dataset[1].query)\n",
    "eval_result = faithfulness_evaluator.evaluate_response(response=response)\n",
    "\n",
    "print(evaluation_result.passing)\n",
    "print(evaluation_result.score)\n",
    "print(evaluation_result.feedback)\n",
    "print(evaluation_result.response)\n",
    "print([node.text for node in response.source_nodes])"
   ]
  },
  {
   "cell_type": "code",
   "execution_count": 22,
   "metadata": {},
   "outputs": [],
   "source": [
    "deepeval_faithfulness_evaluator = DeepEvalFaithfulnessEvaluator(model=model_str)"
   ]
  },
  {
   "cell_type": "code",
   "execution_count": 26,
   "metadata": {},
   "outputs": [
    {
     "data": {
      "application/vnd.jupyter.widget-view+json": {
       "model_id": "b81c9685a33d4da895bc774e46f0cccb",
       "version_major": 2,
       "version_minor": 0
      },
      "text/plain": [
       "Output()"
      ]
     },
     "metadata": {},
     "output_type": "display_data"
    },
    {
     "data": {
      "text/html": [
       "<pre style=\"white-space:pre;overflow-x:auto;line-height:normal;font-family:Menlo,'DejaVu Sans Mono',consolas,'Courier New',monospace\"></pre>\n"
      ],
      "text/plain": []
     },
     "metadata": {},
     "output_type": "display_data"
    },
    {
     "data": {
      "text/html": [
       "<pre style=\"white-space:pre;overflow-x:auto;line-height:normal;font-family:Menlo,'DejaVu Sans Mono',consolas,'Courier New',monospace\">\n",
       "</pre>\n"
      ],
      "text/plain": [
       "\n"
      ]
     },
     "metadata": {},
     "output_type": "display_data"
    }
   ],
   "source": [
    "query = rag_dataset[0].query\n",
    "response = openai_query_engine.query(query)\n",
    "evaluation_result = deepeval_faithfulness_evaluator.evaluate_response(\n",
    "    query=query,\n",
    "    response=response,\n",
    ")"
   ]
  },
  {
   "cell_type": "code",
   "execution_count": 30,
   "metadata": {},
   "outputs": [
    {
     "name": "stdout",
     "output_type": "stream",
     "text": [
      "True\n",
      "1.0\n",
      "The score is 1.00 because there are no contradictions between the actual output and the retrieval context, indicating perfect alignment and faithfulness. Keep up the good work!\n",
      "The vehicle owner must still be the owner of the vehicle for them to receive a lifetime guarantee on the workmanship of repairs authorized and paid for by NRMA.\n"
     ]
    }
   ],
   "source": [
    "print(evaluation_result.passing)\n",
    "print(evaluation_result.score)\n",
    "print(evaluation_result.feedback)\n",
    "print(evaluation_result.response)"
   ]
  },
  {
   "cell_type": "code",
   "execution_count": 31,
   "metadata": {},
   "outputs": [
    {
     "data": {
      "application/vnd.jupyter.widget-view+json": {
       "model_id": "a9ea1ed77f954f5797341bed3e0e0d7b",
       "version_major": 2,
       "version_minor": 0
      },
      "text/plain": [
       "Output()"
      ]
     },
     "metadata": {},
     "output_type": "display_data"
    },
    {
     "data": {
      "text/html": [
       "<pre style=\"white-space:pre;overflow-x:auto;line-height:normal;font-family:Menlo,'DejaVu Sans Mono',consolas,'Courier New',monospace\"></pre>\n"
      ],
      "text/plain": []
     },
     "metadata": {},
     "output_type": "display_data"
    },
    {
     "data": {
      "text/html": [
       "<pre style=\"white-space:pre;overflow-x:auto;line-height:normal;font-family:Menlo,'DejaVu Sans Mono',consolas,'Courier New',monospace\">\n",
       "</pre>\n"
      ],
      "text/plain": [
       "\n"
      ]
     },
     "metadata": {},
     "output_type": "display_data"
    }
   ],
   "source": [
    "query = rag_dataset[0].query\n",
    "response = gemini_query_engine.query(query)\n",
    "evaluation_result = deepeval_faithfulness_evaluator.evaluate_response(\n",
    "    query=query,\n",
    "    response=response,\n",
    ")"
   ]
  },
  {
   "cell_type": "code",
   "execution_count": 36,
   "metadata": {},
   "outputs": [
    {
     "name": "stdout",
     "output_type": "stream",
     "text": [
      "True\n",
      "1.0\n",
      "The score is 1.00 because there are no contradictions listed, indicating that the actual output aligns perfectly with the retrieval context. Great job on maintaining accuracy!\n",
      "The vehicle owner must remain the owner of the vehicle for the lifetime of the guarantee.\n",
      "['NRMA > Inspections\\nLifetime guarantee on authorised repairs If we authorise and pay for a repairer to fix your vehicle, then we provide a lifetime guarantee for the workmanship of those repairs as long as you are the owner of your vehicle.', 'NRMA > Inspections\\nHowever, you can’t claim under our lifetime guarantee if: you sold your vehicle – that is, you are no longer the owner of your vehicle • you (or your agent) authorised repairs to your vehicle without our prior written consent you arrange repairs after we cash settle your claim – that is, we do not authorise repairs there is loss or damage to or failure of any electrical or mechanical part or component, or there is deterioration or wear and tear caused:\\n– over time – by using your vehicle – by exposing your vehicle to the elements – for example, faded or damaged paint from exposure to sun, dirt and/or corrosive materials, or – by your failure to maintain your vehicle in good order and repair.']\n"
     ]
    }
   ],
   "source": [
    "print(evaluation_result.passing)\n",
    "print(evaluation_result.score)\n",
    "print(evaluation_result.feedback)\n",
    "print(evaluation_result.response)\n",
    "print([node.text for node in response.source_nodes])"
   ]
  },
  {
   "cell_type": "code",
   "execution_count": null,
   "metadata": {},
   "outputs": [],
   "source": []
  }
 ],
 "metadata": {
  "kernelspec": {
   "display_name": ".venv",
   "language": "python",
   "name": "python3"
  },
  "language_info": {
   "codemirror_mode": {
    "name": "ipython",
    "version": 3
   },
   "file_extension": ".py",
   "mimetype": "text/x-python",
   "name": "python",
   "nbconvert_exporter": "python",
   "pygments_lexer": "ipython3",
   "version": "3.9.6"
  }
 },
 "nbformat": 4,
 "nbformat_minor": 2
}
